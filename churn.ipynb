{
 "cells": [
  {
   "cell_type": "code",
   "execution_count": null,
   "metadata": {},
   "outputs": [],
   "source": [
    "#! pip3 install virtualenv\n",
    "!pip3 install --user ipykernel"
   ]
  },
  {
   "cell_type": "code",
   "execution_count": 15,
   "metadata": {},
   "outputs": [
    {
     "name": "stdout",
     "output_type": "stream",
     "text": [
      "Installed kernelspec mychurn in C:\\Users\\Vlad\\AppData\\Roaming\\jupyter\\kernels\\mychurn\n"
     ]
    }
   ],
   "source": [
    "! python -m ipykernel install --user --name=mychurn"
   ]
  },
  {
   "cell_type": "code",
   "execution_count": null,
   "metadata": {},
   "outputs": [],
   "source": [
    "#! pip install seaborn\n",
    "! pip install tensorflow"
   ]
  },
  {
   "cell_type": "code",
   "execution_count": 89,
   "metadata": {},
   "outputs": [],
   "source": [
    "import pandas as pd\n",
    "import numpy as np\n",
    "import seaborn as sns\n",
    "import matplotlib.pyplot as plt\n",
    "from matplotlib.pyplot import figure\n",
    "from imblearn.under_sampling import TomekLinks\n",
    "from sklearn.model_selection import train_test_split\n",
    "from sklearn.preprocessing import StandardScaler\n",
    "from sklearn.naive_bayes import BernoulliNB\n",
    "from sklearn.metrics import accuracy_score, roc_auc_score\n",
    "from collections import Counter\n",
    "from sklearn.ensemble import RandomForestClassifier\n",
    "from sklearn.model_selection import GridSearchCV\n",
    "import joblib \n",
    "from tensorflow import keras\n",
    "from keras.models import Sequential\n",
    "from keras.layers import Dense, Dropout \n",
    "import tensorflow as tf\n",
    "from sklearn.neural_network import MLPClassifier"
   ]
  },
  {
   "cell_type": "code",
   "execution_count": 47,
   "metadata": {},
   "outputs": [],
   "source": [
    "test = pd.read_csv(\"data/bank_data_test.csv\")\n",
    "train = pd.read_csv(\"data/bank_data_train.csv\")"
   ]
  },
  {
   "cell_type": "markdown",
   "metadata": {},
   "source": [
    "https://www.youtube.com/watch?v=_MjMNr-SSFc"
   ]
  },
  {
   "cell_type": "markdown",
   "metadata": {},
   "source": [
    "## 0. Data overview"
   ]
  },
  {
   "cell_type": "code",
   "execution_count": 8,
   "metadata": {},
   "outputs": [
    {
     "data": {
      "text/html": [
       "<div>\n",
       "<style scoped>\n",
       "    .dataframe tbody tr th:only-of-type {\n",
       "        vertical-align: middle;\n",
       "    }\n",
       "\n",
       "    .dataframe tbody tr th {\n",
       "        vertical-align: top;\n",
       "    }\n",
       "\n",
       "    .dataframe thead th {\n",
       "        text-align: right;\n",
       "    }\n",
       "</style>\n",
       "<table border=\"1\" class=\"dataframe\">\n",
       "  <thead>\n",
       "    <tr style=\"text-align: right;\">\n",
       "      <th></th>\n",
       "      <th>ID</th>\n",
       "      <th>CR_PROD_CNT_IL</th>\n",
       "      <th>AMOUNT_RUB_CLO_PRC</th>\n",
       "      <th>PRC_ACCEPTS_A_EMAIL_LINK</th>\n",
       "      <th>APP_REGISTR_RGN_CODE</th>\n",
       "      <th>PRC_ACCEPTS_A_POS</th>\n",
       "      <th>PRC_ACCEPTS_A_TK</th>\n",
       "      <th>TURNOVER_DYNAMIC_IL_1M</th>\n",
       "      <th>CNT_TRAN_AUT_TENDENCY1M</th>\n",
       "      <th>SUM_TRAN_AUT_TENDENCY1M</th>\n",
       "      <th>...</th>\n",
       "      <th>REST_DYNAMIC_CC_3M</th>\n",
       "      <th>MED_DEBT_PRC_YWZ</th>\n",
       "      <th>LDEAL_ACT_DAYS_PCT_TR3</th>\n",
       "      <th>LDEAL_ACT_DAYS_PCT_AAVG</th>\n",
       "      <th>LDEAL_DELINQ_PER_MAXYWZ</th>\n",
       "      <th>TURNOVER_DYNAMIC_CC_3M</th>\n",
       "      <th>LDEAL_ACT_DAYS_PCT_TR</th>\n",
       "      <th>LDEAL_ACT_DAYS_PCT_TR4</th>\n",
       "      <th>LDEAL_ACT_DAYS_PCT_CURR</th>\n",
       "      <th>TARGET</th>\n",
       "    </tr>\n",
       "  </thead>\n",
       "  <tbody>\n",
       "    <tr>\n",
       "      <th>0</th>\n",
       "      <td>400980</td>\n",
       "      <td>0</td>\n",
       "      <td>0.000000</td>\n",
       "      <td>NaN</td>\n",
       "      <td>NaN</td>\n",
       "      <td>NaN</td>\n",
       "      <td>NaN</td>\n",
       "      <td>0.0</td>\n",
       "      <td>NaN</td>\n",
       "      <td>NaN</td>\n",
       "      <td>...</td>\n",
       "      <td>0.0</td>\n",
       "      <td>NaN</td>\n",
       "      <td>NaN</td>\n",
       "      <td>NaN</td>\n",
       "      <td>NaN</td>\n",
       "      <td>0.0</td>\n",
       "      <td>NaN</td>\n",
       "      <td>NaN</td>\n",
       "      <td>NaN</td>\n",
       "      <td>NaN</td>\n",
       "    </tr>\n",
       "    <tr>\n",
       "      <th>1</th>\n",
       "      <td>525062</td>\n",
       "      <td>0</td>\n",
       "      <td>0.059381</td>\n",
       "      <td>0.0</td>\n",
       "      <td>NaN</td>\n",
       "      <td>0.0</td>\n",
       "      <td>0.0</td>\n",
       "      <td>0.0</td>\n",
       "      <td>NaN</td>\n",
       "      <td>NaN</td>\n",
       "      <td>...</td>\n",
       "      <td>0.0</td>\n",
       "      <td>1.0</td>\n",
       "      <td>0.5</td>\n",
       "      <td>0.5</td>\n",
       "      <td>0.0</td>\n",
       "      <td>0.0</td>\n",
       "      <td>0.5</td>\n",
       "      <td>0.5</td>\n",
       "      <td>0.5</td>\n",
       "      <td>NaN</td>\n",
       "    </tr>\n",
       "    <tr>\n",
       "      <th>2</th>\n",
       "      <td>280316</td>\n",
       "      <td>0</td>\n",
       "      <td>0.070430</td>\n",
       "      <td>0.0</td>\n",
       "      <td>NaN</td>\n",
       "      <td>0.0</td>\n",
       "      <td>0.0</td>\n",
       "      <td>0.0</td>\n",
       "      <td>NaN</td>\n",
       "      <td>NaN</td>\n",
       "      <td>...</td>\n",
       "      <td>0.0</td>\n",
       "      <td>NaN</td>\n",
       "      <td>NaN</td>\n",
       "      <td>NaN</td>\n",
       "      <td>NaN</td>\n",
       "      <td>0.0</td>\n",
       "      <td>NaN</td>\n",
       "      <td>NaN</td>\n",
       "      <td>NaN</td>\n",
       "      <td>NaN</td>\n",
       "    </tr>\n",
       "    <tr>\n",
       "      <th>3</th>\n",
       "      <td>496066</td>\n",
       "      <td>0</td>\n",
       "      <td>NaN</td>\n",
       "      <td>0.0</td>\n",
       "      <td>NaN</td>\n",
       "      <td>0.0</td>\n",
       "      <td>0.0</td>\n",
       "      <td>0.0</td>\n",
       "      <td>NaN</td>\n",
       "      <td>NaN</td>\n",
       "      <td>...</td>\n",
       "      <td>0.0</td>\n",
       "      <td>NaN</td>\n",
       "      <td>NaN</td>\n",
       "      <td>NaN</td>\n",
       "      <td>NaN</td>\n",
       "      <td>0.0</td>\n",
       "      <td>NaN</td>\n",
       "      <td>NaN</td>\n",
       "      <td>NaN</td>\n",
       "      <td>NaN</td>\n",
       "    </tr>\n",
       "    <tr>\n",
       "      <th>4</th>\n",
       "      <td>375031</td>\n",
       "      <td>0</td>\n",
       "      <td>0.180961</td>\n",
       "      <td>0.0</td>\n",
       "      <td>77.0</td>\n",
       "      <td>0.0</td>\n",
       "      <td>0.0</td>\n",
       "      <td>0.0</td>\n",
       "      <td>NaN</td>\n",
       "      <td>NaN</td>\n",
       "      <td>...</td>\n",
       "      <td>0.0</td>\n",
       "      <td>NaN</td>\n",
       "      <td>NaN</td>\n",
       "      <td>NaN</td>\n",
       "      <td>NaN</td>\n",
       "      <td>0.0</td>\n",
       "      <td>NaN</td>\n",
       "      <td>NaN</td>\n",
       "      <td>NaN</td>\n",
       "      <td>NaN</td>\n",
       "    </tr>\n",
       "  </tbody>\n",
       "</table>\n",
       "<p>5 rows × 116 columns</p>\n",
       "</div>"
      ],
      "text/plain": [
       "       ID  CR_PROD_CNT_IL  AMOUNT_RUB_CLO_PRC  PRC_ACCEPTS_A_EMAIL_LINK  \\\n",
       "0  400980               0            0.000000                       NaN   \n",
       "1  525062               0            0.059381                       0.0   \n",
       "2  280316               0            0.070430                       0.0   \n",
       "3  496066               0                 NaN                       0.0   \n",
       "4  375031               0            0.180961                       0.0   \n",
       "\n",
       "   APP_REGISTR_RGN_CODE  PRC_ACCEPTS_A_POS  PRC_ACCEPTS_A_TK  \\\n",
       "0                   NaN                NaN               NaN   \n",
       "1                   NaN                0.0               0.0   \n",
       "2                   NaN                0.0               0.0   \n",
       "3                   NaN                0.0               0.0   \n",
       "4                  77.0                0.0               0.0   \n",
       "\n",
       "   TURNOVER_DYNAMIC_IL_1M  CNT_TRAN_AUT_TENDENCY1M  SUM_TRAN_AUT_TENDENCY1M  \\\n",
       "0                     0.0                      NaN                      NaN   \n",
       "1                     0.0                      NaN                      NaN   \n",
       "2                     0.0                      NaN                      NaN   \n",
       "3                     0.0                      NaN                      NaN   \n",
       "4                     0.0                      NaN                      NaN   \n",
       "\n",
       "   ...  REST_DYNAMIC_CC_3M  MED_DEBT_PRC_YWZ  LDEAL_ACT_DAYS_PCT_TR3  \\\n",
       "0  ...                 0.0               NaN                     NaN   \n",
       "1  ...                 0.0               1.0                     0.5   \n",
       "2  ...                 0.0               NaN                     NaN   \n",
       "3  ...                 0.0               NaN                     NaN   \n",
       "4  ...                 0.0               NaN                     NaN   \n",
       "\n",
       "  LDEAL_ACT_DAYS_PCT_AAVG  LDEAL_DELINQ_PER_MAXYWZ  TURNOVER_DYNAMIC_CC_3M  \\\n",
       "0                     NaN                      NaN                     0.0   \n",
       "1                     0.5                      0.0                     0.0   \n",
       "2                     NaN                      NaN                     0.0   \n",
       "3                     NaN                      NaN                     0.0   \n",
       "4                     NaN                      NaN                     0.0   \n",
       "\n",
       "   LDEAL_ACT_DAYS_PCT_TR  LDEAL_ACT_DAYS_PCT_TR4  LDEAL_ACT_DAYS_PCT_CURR  \\\n",
       "0                    NaN                     NaN                      NaN   \n",
       "1                    0.5                     0.5                      0.5   \n",
       "2                    NaN                     NaN                      NaN   \n",
       "3                    NaN                     NaN                      NaN   \n",
       "4                    NaN                     NaN                      NaN   \n",
       "\n",
       "  TARGET  \n",
       "0    NaN  \n",
       "1    NaN  \n",
       "2    NaN  \n",
       "3    NaN  \n",
       "4    NaN  \n",
       "\n",
       "[5 rows x 116 columns]"
      ]
     },
     "execution_count": 8,
     "metadata": {},
     "output_type": "execute_result"
    }
   ],
   "source": [
    "test.head()"
   ]
  },
  {
   "cell_type": "code",
   "execution_count": 12,
   "metadata": {},
   "outputs": [
    {
     "data": {
      "text/html": [
       "<div>\n",
       "<style scoped>\n",
       "    .dataframe tbody tr th:only-of-type {\n",
       "        vertical-align: middle;\n",
       "    }\n",
       "\n",
       "    .dataframe tbody tr th {\n",
       "        vertical-align: top;\n",
       "    }\n",
       "\n",
       "    .dataframe thead th {\n",
       "        text-align: right;\n",
       "    }\n",
       "</style>\n",
       "<table border=\"1\" class=\"dataframe\">\n",
       "  <thead>\n",
       "    <tr style=\"text-align: right;\">\n",
       "      <th></th>\n",
       "      <th>ID</th>\n",
       "      <th>CR_PROD_CNT_IL</th>\n",
       "      <th>AMOUNT_RUB_CLO_PRC</th>\n",
       "      <th>PRC_ACCEPTS_A_EMAIL_LINK</th>\n",
       "      <th>APP_REGISTR_RGN_CODE</th>\n",
       "      <th>PRC_ACCEPTS_A_POS</th>\n",
       "      <th>PRC_ACCEPTS_A_TK</th>\n",
       "      <th>TURNOVER_DYNAMIC_IL_1M</th>\n",
       "      <th>CNT_TRAN_AUT_TENDENCY1M</th>\n",
       "      <th>SUM_TRAN_AUT_TENDENCY1M</th>\n",
       "      <th>...</th>\n",
       "      <th>REST_DYNAMIC_CC_3M</th>\n",
       "      <th>MED_DEBT_PRC_YWZ</th>\n",
       "      <th>LDEAL_ACT_DAYS_PCT_TR3</th>\n",
       "      <th>LDEAL_ACT_DAYS_PCT_AAVG</th>\n",
       "      <th>LDEAL_DELINQ_PER_MAXYWZ</th>\n",
       "      <th>TURNOVER_DYNAMIC_CC_3M</th>\n",
       "      <th>LDEAL_ACT_DAYS_PCT_TR</th>\n",
       "      <th>LDEAL_ACT_DAYS_PCT_TR4</th>\n",
       "      <th>LDEAL_ACT_DAYS_PCT_CURR</th>\n",
       "      <th>TARGET</th>\n",
       "    </tr>\n",
       "  </thead>\n",
       "  <tbody>\n",
       "    <tr>\n",
       "      <th>count</th>\n",
       "      <td>88798.000000</td>\n",
       "      <td>88798.000000</td>\n",
       "      <td>79198.000000</td>\n",
       "      <td>38520.0</td>\n",
       "      <td>15332.000000</td>\n",
       "      <td>38520.0</td>\n",
       "      <td>38520.0</td>\n",
       "      <td>88798.000000</td>\n",
       "      <td>19282.000000</td>\n",
       "      <td>19282.000000</td>\n",
       "      <td>...</td>\n",
       "      <td>88798.000000</td>\n",
       "      <td>23817.000000</td>\n",
       "      <td>23281.000000</td>\n",
       "      <td>24452.000000</td>\n",
       "      <td>23817.000000</td>\n",
       "      <td>88798.000000</td>\n",
       "      <td>23281.000000</td>\n",
       "      <td>23281.000000</td>\n",
       "      <td>23281.000000</td>\n",
       "      <td>0.0</td>\n",
       "    </tr>\n",
       "    <tr>\n",
       "      <th>mean</th>\n",
       "      <td>368993.799601</td>\n",
       "      <td>0.105948</td>\n",
       "      <td>0.044540</td>\n",
       "      <td>0.0</td>\n",
       "      <td>51.234151</td>\n",
       "      <td>0.0</td>\n",
       "      <td>0.0</td>\n",
       "      <td>0.001395</td>\n",
       "      <td>0.417814</td>\n",
       "      <td>0.415055</td>\n",
       "      <td>...</td>\n",
       "      <td>0.007159</td>\n",
       "      <td>0.053328</td>\n",
       "      <td>0.025664</td>\n",
       "      <td>0.050934</td>\n",
       "      <td>0.009531</td>\n",
       "      <td>0.004479</td>\n",
       "      <td>0.013860</td>\n",
       "      <td>0.013860</td>\n",
       "      <td>0.013860</td>\n",
       "      <td>NaN</td>\n",
       "    </tr>\n",
       "    <tr>\n",
       "      <th>std</th>\n",
       "      <td>128247.549453</td>\n",
       "      <td>0.433893</td>\n",
       "      <td>0.110796</td>\n",
       "      <td>0.0</td>\n",
       "      <td>21.545330</td>\n",
       "      <td>0.0</td>\n",
       "      <td>0.0</td>\n",
       "      <td>0.030099</td>\n",
       "      <td>0.315638</td>\n",
       "      <td>0.337138</td>\n",
       "      <td>...</td>\n",
       "      <td>0.065267</td>\n",
       "      <td>0.212901</td>\n",
       "      <td>0.114417</td>\n",
       "      <td>0.187097</td>\n",
       "      <td>0.094423</td>\n",
       "      <td>0.061463</td>\n",
       "      <td>0.096474</td>\n",
       "      <td>0.096474</td>\n",
       "      <td>0.096474</td>\n",
       "      <td>NaN</td>\n",
       "    </tr>\n",
       "    <tr>\n",
       "      <th>min</th>\n",
       "      <td>146849.000000</td>\n",
       "      <td>0.000000</td>\n",
       "      <td>0.000000</td>\n",
       "      <td>0.0</td>\n",
       "      <td>1.000000</td>\n",
       "      <td>0.0</td>\n",
       "      <td>0.0</td>\n",
       "      <td>0.000000</td>\n",
       "      <td>0.010204</td>\n",
       "      <td>0.000169</td>\n",
       "      <td>...</td>\n",
       "      <td>0.000000</td>\n",
       "      <td>0.000000</td>\n",
       "      <td>0.000000</td>\n",
       "      <td>0.000000</td>\n",
       "      <td>0.000000</td>\n",
       "      <td>0.000000</td>\n",
       "      <td>0.000000</td>\n",
       "      <td>0.000000</td>\n",
       "      <td>0.000000</td>\n",
       "      <td>NaN</td>\n",
       "    </tr>\n",
       "    <tr>\n",
       "      <th>25%</th>\n",
       "      <td>257792.000000</td>\n",
       "      <td>0.000000</td>\n",
       "      <td>0.000000</td>\n",
       "      <td>0.0</td>\n",
       "      <td>34.000000</td>\n",
       "      <td>0.0</td>\n",
       "      <td>0.0</td>\n",
       "      <td>0.000000</td>\n",
       "      <td>0.166667</td>\n",
       "      <td>0.141839</td>\n",
       "      <td>...</td>\n",
       "      <td>0.000000</td>\n",
       "      <td>0.000000</td>\n",
       "      <td>0.000000</td>\n",
       "      <td>0.000000</td>\n",
       "      <td>0.000000</td>\n",
       "      <td>0.000000</td>\n",
       "      <td>0.000000</td>\n",
       "      <td>0.000000</td>\n",
       "      <td>0.000000</td>\n",
       "      <td>NaN</td>\n",
       "    </tr>\n",
       "    <tr>\n",
       "      <th>50%</th>\n",
       "      <td>369065.500000</td>\n",
       "      <td>0.000000</td>\n",
       "      <td>0.000000</td>\n",
       "      <td>0.0</td>\n",
       "      <td>54.000000</td>\n",
       "      <td>0.0</td>\n",
       "      <td>0.0</td>\n",
       "      <td>0.000000</td>\n",
       "      <td>0.300000</td>\n",
       "      <td>0.288088</td>\n",
       "      <td>...</td>\n",
       "      <td>0.000000</td>\n",
       "      <td>0.000000</td>\n",
       "      <td>0.000000</td>\n",
       "      <td>0.000000</td>\n",
       "      <td>0.000000</td>\n",
       "      <td>0.000000</td>\n",
       "      <td>0.000000</td>\n",
       "      <td>0.000000</td>\n",
       "      <td>0.000000</td>\n",
       "      <td>NaN</td>\n",
       "    </tr>\n",
       "    <tr>\n",
       "      <th>75%</th>\n",
       "      <td>480225.000000</td>\n",
       "      <td>0.000000</td>\n",
       "      <td>0.037049</td>\n",
       "      <td>0.0</td>\n",
       "      <td>72.000000</td>\n",
       "      <td>0.0</td>\n",
       "      <td>0.0</td>\n",
       "      <td>0.000000</td>\n",
       "      <td>0.571429</td>\n",
       "      <td>0.655653</td>\n",
       "      <td>...</td>\n",
       "      <td>0.000000</td>\n",
       "      <td>0.000000</td>\n",
       "      <td>0.000000</td>\n",
       "      <td>0.000000</td>\n",
       "      <td>0.000000</td>\n",
       "      <td>0.000000</td>\n",
       "      <td>0.000000</td>\n",
       "      <td>0.000000</td>\n",
       "      <td>0.000000</td>\n",
       "      <td>NaN</td>\n",
       "    </tr>\n",
       "    <tr>\n",
       "      <th>max</th>\n",
       "      <td>590827.000000</td>\n",
       "      <td>11.000000</td>\n",
       "      <td>1.000000</td>\n",
       "      <td>0.0</td>\n",
       "      <td>89.000000</td>\n",
       "      <td>0.0</td>\n",
       "      <td>0.0</td>\n",
       "      <td>1.000000</td>\n",
       "      <td>1.000000</td>\n",
       "      <td>1.000000</td>\n",
       "      <td>...</td>\n",
       "      <td>1.000000</td>\n",
       "      <td>1.000000</td>\n",
       "      <td>1.000000</td>\n",
       "      <td>1.000000</td>\n",
       "      <td>1.000000</td>\n",
       "      <td>1.000000</td>\n",
       "      <td>1.000000</td>\n",
       "      <td>1.000000</td>\n",
       "      <td>1.000000</td>\n",
       "      <td>NaN</td>\n",
       "    </tr>\n",
       "  </tbody>\n",
       "</table>\n",
       "<p>8 rows × 103 columns</p>\n",
       "</div>"
      ],
      "text/plain": [
       "                  ID  CR_PROD_CNT_IL  AMOUNT_RUB_CLO_PRC  \\\n",
       "count   88798.000000    88798.000000        79198.000000   \n",
       "mean   368993.799601        0.105948            0.044540   \n",
       "std    128247.549453        0.433893            0.110796   \n",
       "min    146849.000000        0.000000            0.000000   \n",
       "25%    257792.000000        0.000000            0.000000   \n",
       "50%    369065.500000        0.000000            0.000000   \n",
       "75%    480225.000000        0.000000            0.037049   \n",
       "max    590827.000000       11.000000            1.000000   \n",
       "\n",
       "       PRC_ACCEPTS_A_EMAIL_LINK  APP_REGISTR_RGN_CODE  PRC_ACCEPTS_A_POS  \\\n",
       "count                   38520.0          15332.000000            38520.0   \n",
       "mean                        0.0             51.234151                0.0   \n",
       "std                         0.0             21.545330                0.0   \n",
       "min                         0.0              1.000000                0.0   \n",
       "25%                         0.0             34.000000                0.0   \n",
       "50%                         0.0             54.000000                0.0   \n",
       "75%                         0.0             72.000000                0.0   \n",
       "max                         0.0             89.000000                0.0   \n",
       "\n",
       "       PRC_ACCEPTS_A_TK  TURNOVER_DYNAMIC_IL_1M  CNT_TRAN_AUT_TENDENCY1M  \\\n",
       "count           38520.0            88798.000000             19282.000000   \n",
       "mean                0.0                0.001395                 0.417814   \n",
       "std                 0.0                0.030099                 0.315638   \n",
       "min                 0.0                0.000000                 0.010204   \n",
       "25%                 0.0                0.000000                 0.166667   \n",
       "50%                 0.0                0.000000                 0.300000   \n",
       "75%                 0.0                0.000000                 0.571429   \n",
       "max                 0.0                1.000000                 1.000000   \n",
       "\n",
       "       SUM_TRAN_AUT_TENDENCY1M  ...  REST_DYNAMIC_CC_3M  MED_DEBT_PRC_YWZ  \\\n",
       "count             19282.000000  ...        88798.000000      23817.000000   \n",
       "mean                  0.415055  ...            0.007159          0.053328   \n",
       "std                   0.337138  ...            0.065267          0.212901   \n",
       "min                   0.000169  ...            0.000000          0.000000   \n",
       "25%                   0.141839  ...            0.000000          0.000000   \n",
       "50%                   0.288088  ...            0.000000          0.000000   \n",
       "75%                   0.655653  ...            0.000000          0.000000   \n",
       "max                   1.000000  ...            1.000000          1.000000   \n",
       "\n",
       "       LDEAL_ACT_DAYS_PCT_TR3  LDEAL_ACT_DAYS_PCT_AAVG  \\\n",
       "count            23281.000000             24452.000000   \n",
       "mean                 0.025664                 0.050934   \n",
       "std                  0.114417                 0.187097   \n",
       "min                  0.000000                 0.000000   \n",
       "25%                  0.000000                 0.000000   \n",
       "50%                  0.000000                 0.000000   \n",
       "75%                  0.000000                 0.000000   \n",
       "max                  1.000000                 1.000000   \n",
       "\n",
       "       LDEAL_DELINQ_PER_MAXYWZ  TURNOVER_DYNAMIC_CC_3M  LDEAL_ACT_DAYS_PCT_TR  \\\n",
       "count             23817.000000            88798.000000           23281.000000   \n",
       "mean                  0.009531                0.004479               0.013860   \n",
       "std                   0.094423                0.061463               0.096474   \n",
       "min                   0.000000                0.000000               0.000000   \n",
       "25%                   0.000000                0.000000               0.000000   \n",
       "50%                   0.000000                0.000000               0.000000   \n",
       "75%                   0.000000                0.000000               0.000000   \n",
       "max                   1.000000                1.000000               1.000000   \n",
       "\n",
       "       LDEAL_ACT_DAYS_PCT_TR4  LDEAL_ACT_DAYS_PCT_CURR  TARGET  \n",
       "count            23281.000000             23281.000000     0.0  \n",
       "mean                 0.013860                 0.013860     NaN  \n",
       "std                  0.096474                 0.096474     NaN  \n",
       "min                  0.000000                 0.000000     NaN  \n",
       "25%                  0.000000                 0.000000     NaN  \n",
       "50%                  0.000000                 0.000000     NaN  \n",
       "75%                  0.000000                 0.000000     NaN  \n",
       "max                  1.000000                 1.000000     NaN  \n",
       "\n",
       "[8 rows x 103 columns]"
      ]
     },
     "execution_count": 12,
     "metadata": {},
     "output_type": "execute_result"
    }
   ],
   "source": [
    "test.describe()"
   ]
  },
  {
   "cell_type": "code",
   "execution_count": 23,
   "metadata": {},
   "outputs": [
    {
     "data": {
      "text/plain": [
       "ID                              0\n",
       "CR_PROD_CNT_IL                  0\n",
       "AMOUNT_RUB_CLO_PRC           9600\n",
       "PRC_ACCEPTS_A_EMAIL_LINK    50278\n",
       "APP_REGISTR_RGN_CODE        73466\n",
       "                            ...  \n",
       "TURNOVER_DYNAMIC_CC_3M          0\n",
       "LDEAL_ACT_DAYS_PCT_TR       65517\n",
       "LDEAL_ACT_DAYS_PCT_TR4      65517\n",
       "LDEAL_ACT_DAYS_PCT_CURR     65517\n",
       "TARGET                      88798\n",
       "Length: 116, dtype: int64"
      ]
     },
     "execution_count": 23,
     "metadata": {},
     "output_type": "execute_result"
    }
   ],
   "source": [
    "test.isnull().sum()"
   ]
  },
  {
   "cell_type": "markdown",
   "metadata": {},
   "source": [
    "too many NULLs"
   ]
  },
  {
   "cell_type": "code",
   "execution_count": 23,
   "metadata": {},
   "outputs": [
    {
     "data": {
      "text/plain": [
       "0    326265\n",
       "1     28925\n",
       "Name: TARGET, dtype: int64"
      ]
     },
     "execution_count": 23,
     "metadata": {},
     "output_type": "execute_result"
    }
   ],
   "source": [
    "train['TARGET'].value_counts()"
   ]
  },
  {
   "cell_type": "markdown",
   "metadata": {},
   "source": [
    "classes are imbalanced"
   ]
  },
  {
   "cell_type": "markdown",
   "metadata": {},
   "source": [
    "## 1. Data preparation"
   ]
  },
  {
   "cell_type": "code",
   "execution_count": 48,
   "metadata": {},
   "outputs": [
    {
     "data": {
      "text/html": [
       "<div>\n",
       "<style scoped>\n",
       "    .dataframe tbody tr th:only-of-type {\n",
       "        vertical-align: middle;\n",
       "    }\n",
       "\n",
       "    .dataframe tbody tr th {\n",
       "        vertical-align: top;\n",
       "    }\n",
       "\n",
       "    .dataframe thead th {\n",
       "        text-align: right;\n",
       "    }\n",
       "</style>\n",
       "<table border=\"1\" class=\"dataframe\">\n",
       "  <thead>\n",
       "    <tr style=\"text-align: right;\">\n",
       "      <th></th>\n",
       "      <th>ID</th>\n",
       "      <th>CR_PROD_CNT_IL</th>\n",
       "      <th>AMOUNT_RUB_CLO_PRC</th>\n",
       "      <th>PRC_ACCEPTS_A_EMAIL_LINK</th>\n",
       "      <th>APP_REGISTR_RGN_CODE</th>\n",
       "      <th>PRC_ACCEPTS_A_POS</th>\n",
       "      <th>PRC_ACCEPTS_A_TK</th>\n",
       "      <th>TURNOVER_DYNAMIC_IL_1M</th>\n",
       "      <th>CNT_TRAN_AUT_TENDENCY1M</th>\n",
       "      <th>SUM_TRAN_AUT_TENDENCY1M</th>\n",
       "      <th>...</th>\n",
       "      <th>MED_DEBT_PRC_YWZ</th>\n",
       "      <th>LDEAL_ACT_DAYS_PCT_TR3</th>\n",
       "      <th>LDEAL_ACT_DAYS_PCT_AAVG</th>\n",
       "      <th>LDEAL_DELINQ_PER_MAXYWZ</th>\n",
       "      <th>TURNOVER_DYNAMIC_CC_3M</th>\n",
       "      <th>LDEAL_ACT_DAYS_PCT_TR</th>\n",
       "      <th>LDEAL_ACT_DAYS_PCT_TR4</th>\n",
       "      <th>LDEAL_ACT_DAYS_PCT_CURR</th>\n",
       "      <th>TARGET</th>\n",
       "      <th>train</th>\n",
       "    </tr>\n",
       "  </thead>\n",
       "  <tbody>\n",
       "    <tr>\n",
       "      <th>0</th>\n",
       "      <td>146841</td>\n",
       "      <td>0</td>\n",
       "      <td>0.000000</td>\n",
       "      <td>NaN</td>\n",
       "      <td>NaN</td>\n",
       "      <td>NaN</td>\n",
       "      <td>NaN</td>\n",
       "      <td>0.0</td>\n",
       "      <td>NaN</td>\n",
       "      <td>NaN</td>\n",
       "      <td>...</td>\n",
       "      <td>NaN</td>\n",
       "      <td>NaN</td>\n",
       "      <td>NaN</td>\n",
       "      <td>NaN</td>\n",
       "      <td>0.0</td>\n",
       "      <td>NaN</td>\n",
       "      <td>NaN</td>\n",
       "      <td>NaN</td>\n",
       "      <td>0.0</td>\n",
       "      <td>1</td>\n",
       "    </tr>\n",
       "    <tr>\n",
       "      <th>1</th>\n",
       "      <td>146842</td>\n",
       "      <td>0</td>\n",
       "      <td>0.041033</td>\n",
       "      <td>NaN</td>\n",
       "      <td>NaN</td>\n",
       "      <td>NaN</td>\n",
       "      <td>NaN</td>\n",
       "      <td>0.0</td>\n",
       "      <td>0.166667</td>\n",
       "      <td>0.186107</td>\n",
       "      <td>...</td>\n",
       "      <td>NaN</td>\n",
       "      <td>NaN</td>\n",
       "      <td>NaN</td>\n",
       "      <td>NaN</td>\n",
       "      <td>0.0</td>\n",
       "      <td>NaN</td>\n",
       "      <td>NaN</td>\n",
       "      <td>NaN</td>\n",
       "      <td>0.0</td>\n",
       "      <td>1</td>\n",
       "    </tr>\n",
       "    <tr>\n",
       "      <th>2</th>\n",
       "      <td>146843</td>\n",
       "      <td>0</td>\n",
       "      <td>0.006915</td>\n",
       "      <td>0.0</td>\n",
       "      <td>NaN</td>\n",
       "      <td>0.0</td>\n",
       "      <td>0.0</td>\n",
       "      <td>0.0</td>\n",
       "      <td>NaN</td>\n",
       "      <td>NaN</td>\n",
       "      <td>...</td>\n",
       "      <td>NaN</td>\n",
       "      <td>NaN</td>\n",
       "      <td>NaN</td>\n",
       "      <td>NaN</td>\n",
       "      <td>0.0</td>\n",
       "      <td>NaN</td>\n",
       "      <td>NaN</td>\n",
       "      <td>NaN</td>\n",
       "      <td>0.0</td>\n",
       "      <td>1</td>\n",
       "    </tr>\n",
       "    <tr>\n",
       "      <th>3</th>\n",
       "      <td>146844</td>\n",
       "      <td>0</td>\n",
       "      <td>0.000000</td>\n",
       "      <td>NaN</td>\n",
       "      <td>NaN</td>\n",
       "      <td>NaN</td>\n",
       "      <td>NaN</td>\n",
       "      <td>0.0</td>\n",
       "      <td>NaN</td>\n",
       "      <td>NaN</td>\n",
       "      <td>...</td>\n",
       "      <td>NaN</td>\n",
       "      <td>NaN</td>\n",
       "      <td>NaN</td>\n",
       "      <td>NaN</td>\n",
       "      <td>0.0</td>\n",
       "      <td>NaN</td>\n",
       "      <td>NaN</td>\n",
       "      <td>NaN</td>\n",
       "      <td>0.0</td>\n",
       "      <td>1</td>\n",
       "    </tr>\n",
       "    <tr>\n",
       "      <th>4</th>\n",
       "      <td>146845</td>\n",
       "      <td>0</td>\n",
       "      <td>0.000000</td>\n",
       "      <td>NaN</td>\n",
       "      <td>NaN</td>\n",
       "      <td>NaN</td>\n",
       "      <td>NaN</td>\n",
       "      <td>0.0</td>\n",
       "      <td>NaN</td>\n",
       "      <td>NaN</td>\n",
       "      <td>...</td>\n",
       "      <td>NaN</td>\n",
       "      <td>NaN</td>\n",
       "      <td>NaN</td>\n",
       "      <td>NaN</td>\n",
       "      <td>0.0</td>\n",
       "      <td>NaN</td>\n",
       "      <td>NaN</td>\n",
       "      <td>NaN</td>\n",
       "      <td>0.0</td>\n",
       "      <td>1</td>\n",
       "    </tr>\n",
       "  </tbody>\n",
       "</table>\n",
       "<p>5 rows × 117 columns</p>\n",
       "</div>"
      ],
      "text/plain": [
       "       ID  CR_PROD_CNT_IL  AMOUNT_RUB_CLO_PRC  PRC_ACCEPTS_A_EMAIL_LINK  \\\n",
       "0  146841               0            0.000000                       NaN   \n",
       "1  146842               0            0.041033                       NaN   \n",
       "2  146843               0            0.006915                       0.0   \n",
       "3  146844               0            0.000000                       NaN   \n",
       "4  146845               0            0.000000                       NaN   \n",
       "\n",
       "   APP_REGISTR_RGN_CODE  PRC_ACCEPTS_A_POS  PRC_ACCEPTS_A_TK  \\\n",
       "0                   NaN                NaN               NaN   \n",
       "1                   NaN                NaN               NaN   \n",
       "2                   NaN                0.0               0.0   \n",
       "3                   NaN                NaN               NaN   \n",
       "4                   NaN                NaN               NaN   \n",
       "\n",
       "   TURNOVER_DYNAMIC_IL_1M  CNT_TRAN_AUT_TENDENCY1M  SUM_TRAN_AUT_TENDENCY1M  \\\n",
       "0                     0.0                      NaN                      NaN   \n",
       "1                     0.0                 0.166667                 0.186107   \n",
       "2                     0.0                      NaN                      NaN   \n",
       "3                     0.0                      NaN                      NaN   \n",
       "4                     0.0                      NaN                      NaN   \n",
       "\n",
       "   ...  MED_DEBT_PRC_YWZ  LDEAL_ACT_DAYS_PCT_TR3  LDEAL_ACT_DAYS_PCT_AAVG  \\\n",
       "0  ...               NaN                     NaN                      NaN   \n",
       "1  ...               NaN                     NaN                      NaN   \n",
       "2  ...               NaN                     NaN                      NaN   \n",
       "3  ...               NaN                     NaN                      NaN   \n",
       "4  ...               NaN                     NaN                      NaN   \n",
       "\n",
       "  LDEAL_DELINQ_PER_MAXYWZ  TURNOVER_DYNAMIC_CC_3M  LDEAL_ACT_DAYS_PCT_TR  \\\n",
       "0                     NaN                     0.0                    NaN   \n",
       "1                     NaN                     0.0                    NaN   \n",
       "2                     NaN                     0.0                    NaN   \n",
       "3                     NaN                     0.0                    NaN   \n",
       "4                     NaN                     0.0                    NaN   \n",
       "\n",
       "   LDEAL_ACT_DAYS_PCT_TR4  LDEAL_ACT_DAYS_PCT_CURR  TARGET train  \n",
       "0                     NaN                      NaN     0.0     1  \n",
       "1                     NaN                      NaN     0.0     1  \n",
       "2                     NaN                      NaN     0.0     1  \n",
       "3                     NaN                      NaN     0.0     1  \n",
       "4                     NaN                      NaN     0.0     1  \n",
       "\n",
       "[5 rows x 117 columns]"
      ]
     },
     "execution_count": 48,
     "metadata": {},
     "output_type": "execute_result"
    }
   ],
   "source": [
    "train['train'] = 1\n",
    "test['train'] = 0\n",
    "df = pd.concat([train, test], ignore_index=True)\n",
    "df_b = df.copy()\n",
    "df.head()"
   ]
  },
  {
   "cell_type": "code",
   "execution_count": 28,
   "metadata": {},
   "outputs": [
    {
     "data": {
      "text/plain": [
       "float64    95\n",
       "object     13\n",
       "int64       8\n",
       "dtype: int64"
      ]
     },
     "execution_count": 28,
     "metadata": {},
     "output_type": "execute_result"
    }
   ],
   "source": [
    "df.dtypes.value_counts()"
   ]
  },
  {
   "cell_type": "code",
   "execution_count": 49,
   "metadata": {},
   "outputs": [
    {
     "name": "stdout",
     "output_type": "stream",
     "text": [
      "Before:\t396.34 Mb\n",
      "After:\t132.12 Mb\n"
     ]
    }
   ],
   "source": [
    "# optimize memory by type casting\n",
    "def optimize_memory(df):\n",
    "    before, after = 0, 0\n",
    "    for i in df.columns:\n",
    "        before = before + df[i].memory_usage()\n",
    "        if 'float64' == df[i].dtype or  'float32' == df[i].dtype:\n",
    "            df[i] = df[i].astype('float16')\n",
    "        if 'int64' == df[i].dtype or 'int32' == df[i].dtype:\n",
    "            df[i] = df[i].astype('int16')\n",
    "        after = after + df[i].memory_usage()\n",
    "\n",
    "    before, after = before / 1024**2, after / 1024**2\n",
    "    print(\"Before:\\t{:.2f} Mb\\nAfter:\\t{:.2f} Mb\".format(before, after))\n",
    "    return df\n",
    "\n",
    "df = optimize_memory(df)"
   ]
  },
  {
   "cell_type": "code",
   "execution_count": 105,
   "metadata": {},
   "outputs": [
    {
     "data": {
      "text/plain": [
       "CLNT_TRUST_RELATION            357070\n",
       "APP_MARITAL_STATUS             358546\n",
       "APP_KIND_OF_PROP_HABITATION    369645\n",
       "CLNT_JOB_POSITION_TYPE         387905\n",
       "CLNT_JOB_POSITION              180325\n",
       "APP_DRIVING_LICENSE            372211\n",
       "APP_EDUCATION                  358696\n",
       "APP_TRAVEL_PASS                372211\n",
       "APP_CAR                        372212\n",
       "APP_POSITION_TYPE              368188\n",
       "APP_EMP_TYPE                   359625\n",
       "APP_COMP_TYPE                  359625\n",
       "PACK                                0\n",
       "dtype: int64"
      ]
     },
     "execution_count": 105,
     "metadata": {},
     "output_type": "execute_result"
    }
   ],
   "source": [
    "df.select_dtypes(include =['object']).isnull().sum()"
   ]
  },
  {
   "cell_type": "code",
   "execution_count": 50,
   "metadata": {},
   "outputs": [],
   "source": [
    "# exclude varaibles with too much missings\n",
    "for i in df.columns:\n",
    "    if df[i].isnull().sum() > 100000:\n",
    "        df.drop(i, axis=1, inplace=True)"
   ]
  },
  {
   "cell_type": "code",
   "execution_count": 51,
   "metadata": {},
   "outputs": [
    {
     "data": {
      "text/plain": [
       "float16    35\n",
       "uint8      12\n",
       "int16       9\n",
       "dtype: int64"
      ]
     },
     "execution_count": 51,
     "metadata": {},
     "output_type": "execute_result"
    }
   ],
   "source": [
    "# exclude all object types, now we have df only with number types\n",
    "df = pd.concat([df, pd.get_dummies(df['PACK'])], axis = 1)\n",
    "df.drop(['PACK'], axis=1, inplace=True)\n",
    "df.dtypes.value_counts()"
   ]
  },
  {
   "cell_type": "code",
   "execution_count": 8,
   "metadata": {},
   "outputs": [
    {
     "data": {
      "text/plain": [
       "Text(0.5, 1.0, 'After')"
      ]
     },
     "execution_count": 8,
     "metadata": {},
     "output_type": "execute_result"
    },
    {
     "data": {
      "image/png": "[encoded data removed]",
      "text/plain": [
       "<Figure size 1152x576 with 2 Axes>"
      ]
     },
     "metadata": {
      "needs_background": "light"
     },
     "output_type": "display_data"
    },
    {
     "data": {
      "text/plain": [
       "<Figure size 432x288 with 0 Axes>"
      ]
     },
     "metadata": {},
     "output_type": "display_data"
    }
   ],
   "source": [
    "# comparison of heatmaps to see number of omissions\n",
    "fig, axs = plt.subplots(ncols=2, figsize=(16,8))\n",
    "figure() # change sides of plot\n",
    "sns.heatmap(df_b.isnull(), cbar=False, ax=axs[0])\n",
    "sns.heatmap(df.isnull(), cbar=False, ax=axs[1])\n",
    "fig.suptitle('Preprocessing')\n",
    "axs[0].set_title('Before')\n",
    "axs[1].set_title('After')"
   ]
  },
  {
   "cell_type": "code",
   "execution_count": 52,
   "metadata": {},
   "outputs": [],
   "source": [
    "# divide train and test\n",
    "df = df[np.isfinite(df).all(1)]\n",
    "df_train = df[df['train']==1].copy() # could be done with target\n",
    "df_test = df[df['train']==0].copy()\n",
    "df_train.dropna(how = 'any', inplace=True)"
   ]
  },
  {
   "cell_type": "code",
   "execution_count": 53,
   "metadata": {},
   "outputs": [],
   "source": [
    "X = df_train.drop(['ID', 'TARGET', 'train'], axis=1).values.astype('float16')\n",
    "y = df_train[\"TARGET\"].values\n"
   ]
  },
  {
   "cell_type": "code",
   "execution_count": 54,
   "metadata": {},
   "outputs": [],
   "source": [
    "tomek=TomekLinks()\n",
    "x_res, y_res = tomek.fit_resample(X, y)\n",
    "joblib.dump(x_res, 'save/x_res.pkl')\n",
    "joblib.dump(y_res, 'save/y_res.pkl')"
   ]
  },
  {
   "cell_type": "code",
   "execution_count": 57,
   "metadata": {},
   "outputs": [],
   "source": [
    "x_res = joblib.load(\"save/x_res.pkl\")\n",
    "y_res = joblib.load(\"save/y_res.pkl\")\n"
   ]
  },
  {
   "cell_type": "code",
   "execution_count": 116,
   "metadata": {},
   "outputs": [
    {
     "name": "stdout",
     "output_type": "stream",
     "text": [
      "Counter({0.0: 192791, 1.0: 22044})\n",
      "Counter({0.0: 181196, 1.0: 22044})\n"
     ]
    }
   ],
   "source": [
    "print(Counter(y))\n",
    "print(Counter(y_res))\n"
   ]
  },
  {
   "cell_type": "code",
   "execution_count": 127,
   "metadata": {},
   "outputs": [
    {
     "data": {
      "text/plain": [
       "((203240, 53), (203240,))"
      ]
     },
     "execution_count": 127,
     "metadata": {},
     "output_type": "execute_result"
    }
   ],
   "source": [
    "x_res.shape, y_res.shape"
   ]
  },
  {
   "cell_type": "code",
   "execution_count": 58,
   "metadata": {},
   "outputs": [],
   "source": [
    "#You need to make a split on the train and test (20%) datasets with stratification.\n",
    "X, y = x_res, y_res\n",
    "X_train, X_test, y_train, y_test = train_test_split(X, y, test_size=0.2, random_state=42, stratify = y)"
   ]
  },
  {
   "cell_type": "code",
   "execution_count": 59,
   "metadata": {},
   "outputs": [],
   "source": [
    "scaler = StandardScaler()\n",
    "scaler.fit(X_train)\n",
    "X_train = scaler.transform(X_train)\n",
    "X_test = scaler.transform(X_test)"
   ]
  },
  {
   "cell_type": "markdown",
   "metadata": {},
   "source": [
    "https://towardsdatascience.com/imbalanced-classification-in-python-smote-tomek-links-method-6e48dfe69bbc\n"
   ]
  },
  {
   "cell_type": "markdown",
   "metadata": {},
   "source": [
    "## 2. Models"
   ]
  },
  {
   "cell_type": "markdown",
   "metadata": {},
   "source": [
    "### 2.1. Baseline naive classifier"
   ]
  },
  {
   "cell_type": "code",
   "execution_count": 71,
   "metadata": {},
   "outputs": [],
   "source": [
    "m1 = BernoulliNB(binarize=5)\n",
    "m1.fit(X_train, y_train)\n",
    "y_hat_class1 = m1.predict(X_test)\n",
    "y_hat_proba1 = m1.predict_proba(X_test)[:, 1]\n",
    "\n",
    "\n"
   ]
  },
  {
   "cell_type": "code",
   "execution_count": 79,
   "metadata": {},
   "outputs": [
    {
     "name": "stdout",
     "output_type": "stream",
     "text": [
      "accuracy: 0.88\n",
      "auc\t: 0.51\n"
     ]
    }
   ],
   "source": [
    "print('accuracy:', round(accuracy_score(y_test, y_hat_class1), 2))\n",
    "print('auc\\t:', round(roc_auc_score(y_test, y_hat_class1), 2))\n",
    "results = []\n",
    "results.append({'model': 'm1', 'auc' : round(roc_auc_score(y_test, y_hat_class1), 2)})\n",
    "\n"
   ]
  },
  {
   "cell_type": "code",
   "execution_count": 167,
   "metadata": {},
   "outputs": [
    {
     "ename": "TypeError",
     "evalue": "data type 'category' not understood",
     "output_type": "error",
     "traceback": [
      "\u001b[1;31m---------------------------------------------------------------------------\u001b[0m",
      "\u001b[1;31mTypeError\u001b[0m                                 Traceback (most recent call last)",
      "\u001b[1;32m<ipython-input-167-5128a598ad1a>\u001b[0m in \u001b[0;36m<module>\u001b[1;34m\u001b[0m\n\u001b[1;32m----> 1\u001b[1;33m \u001b[0my_hat_class1\u001b[0m\u001b[1;33m.\u001b[0m\u001b[0mastype\u001b[0m\u001b[1;33m(\u001b[0m\u001b[1;34m'int'\u001b[0m\u001b[1;33m,\u001b[0m\u001b[0mcopy\u001b[0m\u001b[1;33m=\u001b[0m\u001b[1;32mFalse\u001b[0m\u001b[1;33m)\u001b[0m\u001b[1;33m.\u001b[0m\u001b[0mastype\u001b[0m\u001b[1;33m(\u001b[0m\u001b[1;34m'category'\u001b[0m\u001b[1;33m,\u001b[0m\u001b[0mcopy\u001b[0m\u001b[1;33m=\u001b[0m\u001b[1;32mFalse\u001b[0m\u001b[1;33m)\u001b[0m\u001b[1;33m\u001b[0m\u001b[1;33m\u001b[0m\u001b[0m\n\u001b[0m",
      "\u001b[1;31mTypeError\u001b[0m: data type 'category' not understood"
     ]
    }
   ],
   "source": [
    "y_hat_class1.astype('int',copy=False).astype('category',copy=False)\n"
   ]
  },
  {
   "cell_type": "code",
   "execution_count": 172,
   "metadata": {},
   "outputs": [
    {
     "data": {
      "text/plain": [
       "Text(0.5, 1.0, 'Probability')"
      ]
     },
     "execution_count": 172,
     "metadata": {},
     "output_type": "execute_result"
    },
    {
     "data": {
      "image/png": "[encoded data removed]",
      "text/plain": [
       "<Figure size 864x288 with 2 Axes>"
      ]
     },
     "metadata": {
      "needs_background": "light"
     },
     "output_type": "display_data"
    }
   ],
   "source": [
    "fig, axs = plt.subplots(ncols=2, figsize=(12,4))\n",
    "sns.histplot(x=y_hat_class1, ax=axs[0])\n",
    "sns.histplot(x=y_hat_proba1, ax=axs[1])\n",
    "fig.suptitle('Churn predicted by Naive Bayes Classifier')\n",
    "axs[0].set_title('Classes')\n",
    "axs[1].set_title('Probability')"
   ]
  },
  {
   "cell_type": "markdown",
   "metadata": {},
   "source": [
    "### 2.2. Random forest"
   ]
  },
  {
   "cell_type": "code",
   "execution_count": 33,
   "metadata": {},
   "outputs": [
    {
     "name": "stdout",
     "output_type": "stream",
     "text": [
      "Fitting 5 folds for each of 12 candidates, totalling 60 fits\n"
     ]
    },
    {
     "name": "stderr",
     "output_type": "stream",
     "text": [
      "c:\\Users\\Vladimir\\Anaconda3\\lib\\site-packages\\sklearn\\ensemble\\_forest.py:427: FutureWarning: `max_features='auto'` has been deprecated in 1.1 and will be removed in 1.3. To keep the past behaviour, explicitly set `max_features='sqrt'` or remove this parameter as it is also the default value for RandomForestClassifiers and ExtraTreesClassifiers.\n",
      "  warn(\n"
     ]
    },
    {
     "data": {
      "text/html": [
       "<style>#sk-container-id-2 {color: black;background-color: white;}#sk-container-id-2 pre{padding: 0;}#sk-container-id-2 div.sk-toggleable {background-color: white;}#sk-container-id-2 label.sk-toggleable__label {cursor: pointer;display: block;width: 100%;margin-bottom: 0;padding: 0.3em;box-sizing: border-box;text-align: center;}#sk-container-id-2 label.sk-toggleable__label-arrow:before {content: \"▸\";float: left;margin-right: 0.25em;color: #696969;}#sk-container-id-2 label.sk-toggleable__label-arrow:hover:before {color: black;}#sk-container-id-2 div.sk-estimator:hover label.sk-toggleable__label-arrow:before {color: black;}#sk-container-id-2 div.sk-toggleable__content {max-height: 0;max-width: 0;overflow: hidden;text-align: left;background-color: #f0f8ff;}#sk-container-id-2 div.sk-toggleable__content pre {margin: 0.2em;color: black;border-radius: 0.25em;background-color: #f0f8ff;}#sk-container-id-2 input.sk-toggleable__control:checked~div.sk-toggleable__content {max-height: 200px;max-width: 100%;overflow: auto;}#sk-container-id-2 input.sk-toggleable__control:checked~label.sk-toggleable__label-arrow:before {content: \"▾\";}#sk-container-id-2 div.sk-estimator input.sk-toggleable__control:checked~label.sk-toggleable__label {background-color: #d4ebff;}#sk-container-id-2 div.sk-label input.sk-toggleable__control:checked~label.sk-toggleable__label {background-color: #d4ebff;}#sk-container-id-2 input.sk-hidden--visually {border: 0;clip: rect(1px 1px 1px 1px);clip: rect(1px, 1px, 1px, 1px);height: 1px;margin: -1px;overflow: hidden;padding: 0;position: absolute;width: 1px;}#sk-container-id-2 div.sk-estimator {font-family: monospace;background-color: #f0f8ff;border: 1px dotted black;border-radius: 0.25em;box-sizing: border-box;margin-bottom: 0.5em;}#sk-container-id-2 div.sk-estimator:hover {background-color: #d4ebff;}#sk-container-id-2 div.sk-parallel-item::after {content: \"\";width: 100%;border-bottom: 1px solid gray;flex-grow: 1;}#sk-container-id-2 div.sk-label:hover label.sk-toggleable__label {background-color: #d4ebff;}#sk-container-id-2 div.sk-serial::before {content: \"\";position: absolute;border-left: 1px solid gray;box-sizing: border-box;top: 0;bottom: 0;left: 50%;z-index: 0;}#sk-container-id-2 div.sk-serial {display: flex;flex-direction: column;align-items: center;background-color: white;padding-right: 0.2em;padding-left: 0.2em;position: relative;}#sk-container-id-2 div.sk-item {position: relative;z-index: 1;}#sk-container-id-2 div.sk-parallel {display: flex;align-items: stretch;justify-content: center;background-color: white;position: relative;}#sk-container-id-2 div.sk-item::before, #sk-container-id-2 div.sk-parallel-item::before {content: \"\";position: absolute;border-left: 1px solid gray;box-sizing: border-box;top: 0;bottom: 0;left: 50%;z-index: -1;}#sk-container-id-2 div.sk-parallel-item {display: flex;flex-direction: column;z-index: 1;position: relative;background-color: white;}#sk-container-id-2 div.sk-parallel-item:first-child::after {align-self: flex-end;width: 50%;}#sk-container-id-2 div.sk-parallel-item:last-child::after {align-self: flex-start;width: 50%;}#sk-container-id-2 div.sk-parallel-item:only-child::after {width: 0;}#sk-container-id-2 div.sk-dashed-wrapped {border: 1px dashed gray;margin: 0 0.4em 0.5em 0.4em;box-sizing: border-box;padding-bottom: 0.4em;background-color: white;}#sk-container-id-2 div.sk-label label {font-family: monospace;font-weight: bold;display: inline-block;line-height: 1.2em;}#sk-container-id-2 div.sk-label-container {text-align: center;}#sk-container-id-2 div.sk-container {/* jupyter's `normalize.less` sets `[hidden] { display: none; }` but bootstrap.min.css set `[hidden] { display: none !important; }` so we also need the `!important` here to be able to override the default hidden behavior on the sphinx rendered scikit-learn.org. See: https://github.com/scikit-learn/scikit-learn/issues/21755 */display: inline-block !important;position: relative;}#sk-container-id-2 div.sk-text-repr-fallback {display: none;}</style><div id=\"sk-container-id-2\" class=\"sk-top-container\"><div class=\"sk-text-repr-fallback\"><pre>GridSearchCV(cv=5, estimator=RandomForestClassifier(random_state=42), n_jobs=-1,\n",
       "             param_grid={&#x27;class_weight&#x27;: [&#x27;balanced&#x27;],\n",
       "                         &#x27;criterion&#x27;: [&#x27;gini&#x27;, &#x27;entropy&#x27;],\n",
       "                         &#x27;max_depth&#x27;: [2, 10, 16], &#x27;max_features&#x27;: [&#x27;auto&#x27;],\n",
       "                         &#x27;n_estimators&#x27;: [200, 500]},\n",
       "             verbose=1)</pre><b>In a Jupyter environment, please rerun this cell to show the HTML representation or trust the notebook. <br />On GitHub, the HTML representation is unable to render, please try loading this page with nbviewer.org.</b></div><div class=\"sk-container\" hidden><div class=\"sk-item sk-dashed-wrapped\"><div class=\"sk-label-container\"><div class=\"sk-label sk-toggleable\"><input class=\"sk-toggleable__control sk-hidden--visually\" id=\"sk-estimator-id-4\" type=\"checkbox\" ><label for=\"sk-estimator-id-4\" class=\"sk-toggleable__label sk-toggleable__label-arrow\">GridSearchCV</label><div class=\"sk-toggleable__content\"><pre>GridSearchCV(cv=5, estimator=RandomForestClassifier(random_state=42), n_jobs=-1,\n",
       "             param_grid={&#x27;class_weight&#x27;: [&#x27;balanced&#x27;],\n",
       "                         &#x27;criterion&#x27;: [&#x27;gini&#x27;, &#x27;entropy&#x27;],\n",
       "                         &#x27;max_depth&#x27;: [2, 10, 16], &#x27;max_features&#x27;: [&#x27;auto&#x27;],\n",
       "                         &#x27;n_estimators&#x27;: [200, 500]},\n",
       "             verbose=1)</pre></div></div></div><div class=\"sk-parallel\"><div class=\"sk-parallel-item\"><div class=\"sk-item\"><div class=\"sk-label-container\"><div class=\"sk-label sk-toggleable\"><input class=\"sk-toggleable__control sk-hidden--visually\" id=\"sk-estimator-id-5\" type=\"checkbox\" ><label for=\"sk-estimator-id-5\" class=\"sk-toggleable__label sk-toggleable__label-arrow\">estimator: RandomForestClassifier</label><div class=\"sk-toggleable__content\"><pre>RandomForestClassifier(random_state=42)</pre></div></div></div><div class=\"sk-serial\"><div class=\"sk-item\"><div class=\"sk-estimator sk-toggleable\"><input class=\"sk-toggleable__control sk-hidden--visually\" id=\"sk-estimator-id-6\" type=\"checkbox\" ><label for=\"sk-estimator-id-6\" class=\"sk-toggleable__label sk-toggleable__label-arrow\">RandomForestClassifier</label><div class=\"sk-toggleable__content\"><pre>RandomForestClassifier(random_state=42)</pre></div></div></div></div></div></div></div></div></div></div>"
      ],
      "text/plain": [
       "GridSearchCV(cv=5, estimator=RandomForestClassifier(random_state=42), n_jobs=-1,\n",
       "             param_grid={'class_weight': ['balanced'],\n",
       "                         'criterion': ['gini', 'entropy'],\n",
       "                         'max_depth': [2, 10, 16], 'max_features': ['auto'],\n",
       "                         'n_estimators': [200, 500]},\n",
       "             verbose=1)"
      ]
     },
     "execution_count": 33,
     "metadata": {},
     "output_type": "execute_result"
    }
   ],
   "source": [
    "rfc = RandomForestClassifier(random_state=42)\n",
    "\n",
    "param_grid = {\n",
    "    'n_estimators': [200, 500], # number fo trees in the forest and ??\n",
    "    'max_features': ['auto'], #  size of the random subsets of features to consider when splitting a node\n",
    "    'max_depth': [2, 10, 16], # The maximum depth of the tree\n",
    "    'criterion': ['gini', 'entropy'], # The function to measure the quality of a split. \n",
    "                                    # (Gini impurity or SChannon information gain)\n",
    "    'class_weight': ['balanced'] # weights of y = n_samples / (n_classes * np.bincount(y))\n",
    "}\n",
    "gs_rfc = GridSearchCV(estimator=rfc, param_grid=param_grid, \n",
    "    cv=5, # cross-validation splitter\n",
    "    verbose=1, # the computation time for each fold and parameter candidate is displayed;\n",
    "    n_jobs=-1 # all cores available on the machine are used\n",
    ")\n",
    "\n",
    "gs_rfc.fit(X_train, y_train)\n",
    "joblib.dump(gs_rfc, 'save/gs_rfc.pkl')"
   ]
  },
  {
   "cell_type": "code",
   "execution_count": 83,
   "metadata": {},
   "outputs": [
    {
     "data": {
      "text/html": [
       "<style>#sk-container-id-1 {color: black;background-color: white;}#sk-container-id-1 pre{padding: 0;}#sk-container-id-1 div.sk-toggleable {background-color: white;}#sk-container-id-1 label.sk-toggleable__label {cursor: pointer;display: block;width: 100%;margin-bottom: 0;padding: 0.3em;box-sizing: border-box;text-align: center;}#sk-container-id-1 label.sk-toggleable__label-arrow:before {content: \"▸\";float: left;margin-right: 0.25em;color: #696969;}#sk-container-id-1 label.sk-toggleable__label-arrow:hover:before {color: black;}#sk-container-id-1 div.sk-estimator:hover label.sk-toggleable__label-arrow:before {color: black;}#sk-container-id-1 div.sk-toggleable__content {max-height: 0;max-width: 0;overflow: hidden;text-align: left;background-color: #f0f8ff;}#sk-container-id-1 div.sk-toggleable__content pre {margin: 0.2em;color: black;border-radius: 0.25em;background-color: #f0f8ff;}#sk-container-id-1 input.sk-toggleable__control:checked~div.sk-toggleable__content {max-height: 200px;max-width: 100%;overflow: auto;}#sk-container-id-1 input.sk-toggleable__control:checked~label.sk-toggleable__label-arrow:before {content: \"▾\";}#sk-container-id-1 div.sk-estimator input.sk-toggleable__control:checked~label.sk-toggleable__label {background-color: #d4ebff;}#sk-container-id-1 div.sk-label input.sk-toggleable__control:checked~label.sk-toggleable__label {background-color: #d4ebff;}#sk-container-id-1 input.sk-hidden--visually {border: 0;clip: rect(1px 1px 1px 1px);clip: rect(1px, 1px, 1px, 1px);height: 1px;margin: -1px;overflow: hidden;padding: 0;position: absolute;width: 1px;}#sk-container-id-1 div.sk-estimator {font-family: monospace;background-color: #f0f8ff;border: 1px dotted black;border-radius: 0.25em;box-sizing: border-box;margin-bottom: 0.5em;}#sk-container-id-1 div.sk-estimator:hover {background-color: #d4ebff;}#sk-container-id-1 div.sk-parallel-item::after {content: \"\";width: 100%;border-bottom: 1px solid gray;flex-grow: 1;}#sk-container-id-1 div.sk-label:hover label.sk-toggleable__label {background-color: #d4ebff;}#sk-container-id-1 div.sk-serial::before {content: \"\";position: absolute;border-left: 1px solid gray;box-sizing: border-box;top: 0;bottom: 0;left: 50%;z-index: 0;}#sk-container-id-1 div.sk-serial {display: flex;flex-direction: column;align-items: center;background-color: white;padding-right: 0.2em;padding-left: 0.2em;position: relative;}#sk-container-id-1 div.sk-item {position: relative;z-index: 1;}#sk-container-id-1 div.sk-parallel {display: flex;align-items: stretch;justify-content: center;background-color: white;position: relative;}#sk-container-id-1 div.sk-item::before, #sk-container-id-1 div.sk-parallel-item::before {content: \"\";position: absolute;border-left: 1px solid gray;box-sizing: border-box;top: 0;bottom: 0;left: 50%;z-index: -1;}#sk-container-id-1 div.sk-parallel-item {display: flex;flex-direction: column;z-index: 1;position: relative;background-color: white;}#sk-container-id-1 div.sk-parallel-item:first-child::after {align-self: flex-end;width: 50%;}#sk-container-id-1 div.sk-parallel-item:last-child::after {align-self: flex-start;width: 50%;}#sk-container-id-1 div.sk-parallel-item:only-child::after {width: 0;}#sk-container-id-1 div.sk-dashed-wrapped {border: 1px dashed gray;margin: 0 0.4em 0.5em 0.4em;box-sizing: border-box;padding-bottom: 0.4em;background-color: white;}#sk-container-id-1 div.sk-label label {font-family: monospace;font-weight: bold;display: inline-block;line-height: 1.2em;}#sk-container-id-1 div.sk-label-container {text-align: center;}#sk-container-id-1 div.sk-container {/* jupyter's `normalize.less` sets `[hidden] { display: none; }` but bootstrap.min.css set `[hidden] { display: none !important; }` so we also need the `!important` here to be able to override the default hidden behavior on the sphinx rendered scikit-learn.org. See: https://github.com/scikit-learn/scikit-learn/issues/21755 */display: inline-block !important;position: relative;}#sk-container-id-1 div.sk-text-repr-fallback {display: none;}</style><div id=\"sk-container-id-1\" class=\"sk-top-container\"><div class=\"sk-text-repr-fallback\"><pre>RandomForestClassifier(class_weight=&#x27;balanced&#x27;, max_depth=16,\n",
       "                       max_features=&#x27;auto&#x27;, n_estimators=500, random_state=42)</pre><b>In a Jupyter environment, please rerun this cell to show the HTML representation or trust the notebook. <br />On GitHub, the HTML representation is unable to render, please try loading this page with nbviewer.org.</b></div><div class=\"sk-container\" hidden><div class=\"sk-item\"><div class=\"sk-estimator sk-toggleable\"><input class=\"sk-toggleable__control sk-hidden--visually\" id=\"sk-estimator-id-1\" type=\"checkbox\" checked><label for=\"sk-estimator-id-1\" class=\"sk-toggleable__label sk-toggleable__label-arrow\">RandomForestClassifier</label><div class=\"sk-toggleable__content\"><pre>RandomForestClassifier(class_weight=&#x27;balanced&#x27;, max_depth=16,\n",
       "                       max_features=&#x27;auto&#x27;, n_estimators=500, random_state=42)</pre></div></div></div></div></div>"
      ],
      "text/plain": [
       "RandomForestClassifier(class_weight='balanced', max_depth=16,\n",
       "                       max_features='auto', n_estimators=500, random_state=42)"
      ]
     },
     "execution_count": 83,
     "metadata": {},
     "output_type": "execute_result"
    }
   ],
   "source": [
    "gs_rfc = joblib.load(\"save/gs_rfc.pkl\")\n",
    "bp = gs_rfc.best_params_\n",
    "m2 = RandomForestClassifier(random_state=42,\n",
    "    n_estimators = bp['n_estimators'], \n",
    "    max_features =  bp['max_features'], \n",
    "    max_depth = bp['max_depth'], \n",
    "    criterion = bp['criterion'], \n",
    "    class_weight = bp['class_weight'])\n",
    "m2"
   ]
  },
  {
   "cell_type": "code",
   "execution_count": 84,
   "metadata": {},
   "outputs": [
    {
     "name": "stderr",
     "output_type": "stream",
     "text": [
      "c:\\Users\\Vladimir\\Anaconda3\\lib\\site-packages\\sklearn\\ensemble\\_forest.py:427: FutureWarning: `max_features='auto'` has been deprecated in 1.1 and will be removed in 1.3. To keep the past behaviour, explicitly set `max_features='sqrt'` or remove this parameter as it is also the default value for RandomForestClassifiers and ExtraTreesClassifiers.\n",
      "  warn(\n"
     ]
    }
   ],
   "source": [
    "m2.fit(X_train, y_train)\n",
    "y_hat_class2 = m2.predict(X_test)\n",
    "y_hat_proba2 = m2.predict_proba(X_test)[:, 1]"
   ]
  },
  {
   "cell_type": "code",
   "execution_count": 85,
   "metadata": {},
   "outputs": [
    {
     "name": "stdout",
     "output_type": "stream",
     "text": [
      "accuracy: 0.83\n",
      "auc\t: 0.67\n"
     ]
    }
   ],
   "source": [
    "print('accuracy:', round(accuracy_score(y_test, y_hat_class2), 2))\n",
    "print('auc\\t:', round(roc_auc_score(y_test, y_hat_class2), 2))\n",
    "results.append({'model': 'm2', 'auc' : round(roc_auc_score(y_test, y_hat_class2), 2)})"
   ]
  },
  {
   "cell_type": "code",
   "execution_count": 72,
   "metadata": {},
   "outputs": [
    {
     "data": {
      "text/plain": [
       "Text(0.5, 1.0, 'Probability')"
      ]
     },
     "execution_count": 72,
     "metadata": {},
     "output_type": "execute_result"
    },
    {
     "data": {
      "image/png": "[encoded data removed]",
      "text/plain": [
       "<Figure size 864x288 with 2 Axes>"
      ]
     },
     "metadata": {
      "needs_background": "light"
     },
     "output_type": "display_data"
    }
   ],
   "source": [
    "fig, axs = plt.subplots(ncols=2, figsize=(12,4))\n",
    "sns.histplot(x=y_hat_class2, ax=axs[0])\n",
    "sns.histplot(x=y_hat_proba2, ax=axs[1])\n",
    "fig.suptitle('Churn predicted by Random Forest Classifier')\n",
    "axs[0].set_title('Classes')\n",
    "axs[1].set_title('Probability')"
   ]
  },
  {
   "cell_type": "markdown",
   "metadata": {},
   "source": [
    "### 2.3. Scikit-learn"
   ]
  },
  {
   "cell_type": "markdown",
   "metadata": {},
   "source": [
    "Multi-layer Perceptron classifier."
   ]
  },
  {
   "cell_type": "code",
   "execution_count": 69,
   "metadata": {},
   "outputs": [
    {
     "name": "stdout",
     "output_type": "stream",
     "text": [
      "Fitting 5 folds for each of 8 candidates, totalling 40 fits\n"
     ]
    },
    {
     "name": "stderr",
     "output_type": "stream",
     "text": [
      "c:\\Users\\Vladimir\\Anaconda3\\lib\\site-packages\\sklearn\\neural_network\\_multilayer_perceptron.py:702: ConvergenceWarning: Stochastic Optimizer: Maximum iterations (200) reached and the optimization hasn't converged yet.\n",
      "  warnings.warn(\n"
     ]
    },
    {
     "data": {
      "text/plain": [
       "['save/gs_mlpc.pkl']"
      ]
     },
     "execution_count": 69,
     "metadata": {},
     "output_type": "execute_result"
    }
   ],
   "source": [
    "mlpc = MLPClassifier(random_state=42)\n",
    "\n",
    "param_grid = {\n",
    "    'solver': ['adam'],\n",
    "    'max_iter': [200, 300], #  \n",
    "    'activation': ['relu', 'logistic'], # \n",
    "    'hidden_layer_sizes': [(62, 32, 1)]\n",
    "}\n",
    "gs_mlpc = GridSearchCV(estimator=mlpc, param_grid=param_grid, \n",
    "    cv=5, # cross-validation splitter\n",
    "    verbose=1, # the computation time for each fold and parameter candidate is displayed;\n",
    "    n_jobs=-1 # all cores available on the machine are used\n",
    ")\n",
    "gs_mlpc.fit(X_train, y_train)\n",
    "joblib.dump(gs_mlpc, 'save/gs_mlpc.pkl')"
   ]
  },
  {
   "cell_type": "code",
   "execution_count": 90,
   "metadata": {},
   "outputs": [
    {
     "data": {
      "text/html": [
       "<style>#sk-container-id-2 {color: black;background-color: white;}#sk-container-id-2 pre{padding: 0;}#sk-container-id-2 div.sk-toggleable {background-color: white;}#sk-container-id-2 label.sk-toggleable__label {cursor: pointer;display: block;width: 100%;margin-bottom: 0;padding: 0.3em;box-sizing: border-box;text-align: center;}#sk-container-id-2 label.sk-toggleable__label-arrow:before {content: \"▸\";float: left;margin-right: 0.25em;color: #696969;}#sk-container-id-2 label.sk-toggleable__label-arrow:hover:before {color: black;}#sk-container-id-2 div.sk-estimator:hover label.sk-toggleable__label-arrow:before {color: black;}#sk-container-id-2 div.sk-toggleable__content {max-height: 0;max-width: 0;overflow: hidden;text-align: left;background-color: #f0f8ff;}#sk-container-id-2 div.sk-toggleable__content pre {margin: 0.2em;color: black;border-radius: 0.25em;background-color: #f0f8ff;}#sk-container-id-2 input.sk-toggleable__control:checked~div.sk-toggleable__content {max-height: 200px;max-width: 100%;overflow: auto;}#sk-container-id-2 input.sk-toggleable__control:checked~label.sk-toggleable__label-arrow:before {content: \"▾\";}#sk-container-id-2 div.sk-estimator input.sk-toggleable__control:checked~label.sk-toggleable__label {background-color: #d4ebff;}#sk-container-id-2 div.sk-label input.sk-toggleable__control:checked~label.sk-toggleable__label {background-color: #d4ebff;}#sk-container-id-2 input.sk-hidden--visually {border: 0;clip: rect(1px 1px 1px 1px);clip: rect(1px, 1px, 1px, 1px);height: 1px;margin: -1px;overflow: hidden;padding: 0;position: absolute;width: 1px;}#sk-container-id-2 div.sk-estimator {font-family: monospace;background-color: #f0f8ff;border: 1px dotted black;border-radius: 0.25em;box-sizing: border-box;margin-bottom: 0.5em;}#sk-container-id-2 div.sk-estimator:hover {background-color: #d4ebff;}#sk-container-id-2 div.sk-parallel-item::after {content: \"\";width: 100%;border-bottom: 1px solid gray;flex-grow: 1;}#sk-container-id-2 div.sk-label:hover label.sk-toggleable__label {background-color: #d4ebff;}#sk-container-id-2 div.sk-serial::before {content: \"\";position: absolute;border-left: 1px solid gray;box-sizing: border-box;top: 0;bottom: 0;left: 50%;z-index: 0;}#sk-container-id-2 div.sk-serial {display: flex;flex-direction: column;align-items: center;background-color: white;padding-right: 0.2em;padding-left: 0.2em;position: relative;}#sk-container-id-2 div.sk-item {position: relative;z-index: 1;}#sk-container-id-2 div.sk-parallel {display: flex;align-items: stretch;justify-content: center;background-color: white;position: relative;}#sk-container-id-2 div.sk-item::before, #sk-container-id-2 div.sk-parallel-item::before {content: \"\";position: absolute;border-left: 1px solid gray;box-sizing: border-box;top: 0;bottom: 0;left: 50%;z-index: -1;}#sk-container-id-2 div.sk-parallel-item {display: flex;flex-direction: column;z-index: 1;position: relative;background-color: white;}#sk-container-id-2 div.sk-parallel-item:first-child::after {align-self: flex-end;width: 50%;}#sk-container-id-2 div.sk-parallel-item:last-child::after {align-self: flex-start;width: 50%;}#sk-container-id-2 div.sk-parallel-item:only-child::after {width: 0;}#sk-container-id-2 div.sk-dashed-wrapped {border: 1px dashed gray;margin: 0 0.4em 0.5em 0.4em;box-sizing: border-box;padding-bottom: 0.4em;background-color: white;}#sk-container-id-2 div.sk-label label {font-family: monospace;font-weight: bold;display: inline-block;line-height: 1.2em;}#sk-container-id-2 div.sk-label-container {text-align: center;}#sk-container-id-2 div.sk-container {/* jupyter's `normalize.less` sets `[hidden] { display: none; }` but bootstrap.min.css set `[hidden] { display: none !important; }` so we also need the `!important` here to be able to override the default hidden behavior on the sphinx rendered scikit-learn.org. See: https://github.com/scikit-learn/scikit-learn/issues/21755 */display: inline-block !important;position: relative;}#sk-container-id-2 div.sk-text-repr-fallback {display: none;}</style><div id=\"sk-container-id-2\" class=\"sk-top-container\"><div class=\"sk-text-repr-fallback\"><pre>MLPClassifier(hidden_layer_sizes=(62, 32, 1), random_state=42)</pre><b>In a Jupyter environment, please rerun this cell to show the HTML representation or trust the notebook. <br />On GitHub, the HTML representation is unable to render, please try loading this page with nbviewer.org.</b></div><div class=\"sk-container\" hidden><div class=\"sk-item\"><div class=\"sk-estimator sk-toggleable\"><input class=\"sk-toggleable__control sk-hidden--visually\" id=\"sk-estimator-id-2\" type=\"checkbox\" checked><label for=\"sk-estimator-id-2\" class=\"sk-toggleable__label sk-toggleable__label-arrow\">MLPClassifier</label><div class=\"sk-toggleable__content\"><pre>MLPClassifier(hidden_layer_sizes=(62, 32, 1), random_state=42)</pre></div></div></div></div></div>"
      ],
      "text/plain": [
       "MLPClassifier(hidden_layer_sizes=(62, 32, 1), random_state=42)"
      ]
     },
     "execution_count": 90,
     "metadata": {},
     "output_type": "execute_result"
    }
   ],
   "source": [
    "gs_mlpc = joblib.load(\"save/gs_mlpc.pkl\")\n",
    "bp = gs_mlpc.best_params_\n",
    "m3 = MLPClassifier(random_state=42,\n",
    "    solver = 'adam', #bp['solver'], \n",
    "    max_iter =  bp['max_iter'], \n",
    "    activation = bp['activation'], \n",
    "    hidden_layer_sizes = bp['hidden_layer_sizes'])\n",
    "m3"
   ]
  },
  {
   "cell_type": "code",
   "execution_count": 91,
   "metadata": {},
   "outputs": [
    {
     "name": "stderr",
     "output_type": "stream",
     "text": [
      "c:\\Users\\Vladimir\\Anaconda3\\lib\\site-packages\\sklearn\\neural_network\\_multilayer_perceptron.py:702: ConvergenceWarning: Stochastic Optimizer: Maximum iterations (200) reached and the optimization hasn't converged yet.\n",
      "  warnings.warn(\n"
     ]
    },
    {
     "name": "stdout",
     "output_type": "stream",
     "text": [
      "accuracy: 0.89\n",
      "auc\t: 0.54\n"
     ]
    }
   ],
   "source": [
    "m3.fit(X_train, y_train)\n",
    "y_hat_class3 = m3.predict(X_test)\n",
    "y_hat_proba3 = m3.predict_proba(X_test)[:, 1]\n",
    "print('accuracy:', round(accuracy_score(y_test, y_hat_class3), 2))\n",
    "print('auc\\t:', round(roc_auc_score(y_test, y_hat_class3), 2))\n",
    "results.append({'model': 'm3', 'auc' : round(roc_auc_score(y_test, y_hat_class3), 2)})"
   ]
  },
  {
   "cell_type": "code",
   "execution_count": 84,
   "metadata": {},
   "outputs": [
    {
     "name": "stdout",
     "output_type": "stream",
     "text": [
      "Counter({0.0: 42078, 1.0: 889})\n"
     ]
    }
   ],
   "source": [
    "print(Counter(y_hat_class3))"
   ]
  },
  {
   "cell_type": "code",
   "execution_count": 85,
   "metadata": {},
   "outputs": [
    {
     "data": {
      "text/plain": [
       "Text(0.5, 1.0, 'Probability')"
      ]
     },
     "execution_count": 85,
     "metadata": {},
     "output_type": "execute_result"
    },
    {
     "data": {
      "image/png": "[encoded data removed]",
      "text/plain": [
       "<Figure size 864x288 with 2 Axes>"
      ]
     },
     "metadata": {
      "needs_background": "light"
     },
     "output_type": "display_data"
    }
   ],
   "source": [
    "fig, axs = plt.subplots(ncols=2, figsize=(12,4))\n",
    "sns.histplot(x=y_hat_class3, ax=axs[0])\n",
    "sns.histplot(x=y_hat_proba3, ax=axs[1])\n",
    "fig.suptitle('Churn predicted by Multi-layer Perceptron classifier')\n",
    "axs[0].set_title('Classes')\n",
    "axs[1].set_title('Probability')"
   ]
  },
  {
   "cell_type": "markdown",
   "metadata": {},
   "source": [
    "### 2.4. Keras"
   ]
  },
  {
   "cell_type": "code",
   "execution_count": 93,
   "metadata": {},
   "outputs": [
    {
     "name": "stdout",
     "output_type": "stream",
     "text": [
      "Epoch 1/50\n",
      "5081/5081 [==============================] - 12s 2ms/step - loss: 0.3478 - auc: 0.6121\n",
      "Epoch 2/50\n",
      "5081/5081 [==============================] - 10s 2ms/step - loss: 0.3256 - auc: 0.6777\n",
      "Epoch 3/50\n",
      "5081/5081 [==============================] - 11s 2ms/step - loss: 0.3208 - auc: 0.6994\n",
      "Epoch 4/50\n",
      "5081/5081 [==============================] - 11s 2ms/step - loss: 0.3176 - auc: 0.7088\n",
      "Epoch 5/50\n",
      "5081/5081 [==============================] - 10s 2ms/step - loss: 0.3151 - auc: 0.7184\n",
      "Epoch 6/50\n",
      "5081/5081 [==============================] - 10s 2ms/step - loss: 0.3129 - auc: 0.7256\n",
      "Epoch 7/50\n",
      "5081/5081 [==============================] - 10s 2ms/step - loss: 0.3118 - auc: 0.7285\n",
      "Epoch 8/50\n",
      "5081/5081 [==============================] - 10s 2ms/step - loss: 0.3105 - auc: 0.7325\n",
      "Epoch 9/50\n",
      "5081/5081 [==============================] - 11s 2ms/step - loss: 0.3101 - auc: 0.7338\n",
      "Epoch 10/50\n",
      "5081/5081 [==============================] - 10s 2ms/step - loss: 0.3091 - auc: 0.7376\n",
      "Epoch 11/50\n",
      "5081/5081 [==============================] - 10s 2ms/step - loss: 0.3077 - auc: 0.7403\n",
      "Epoch 12/50\n",
      "5081/5081 [==============================] - 10s 2ms/step - loss: 0.3081 - auc: 0.7398\n",
      "Epoch 13/50\n",
      "5081/5081 [==============================] - 11s 2ms/step - loss: 0.3074 - auc: 0.7424\n",
      "Epoch 14/50\n",
      "5081/5081 [==============================] - 10s 2ms/step - loss: 0.3068 - auc: 0.7451\n",
      "Epoch 15/50\n",
      "5081/5081 [==============================] - 11s 2ms/step - loss: 0.3065 - auc: 0.7456\n",
      "Epoch 16/50\n",
      "5081/5081 [==============================] - 11s 2ms/step - loss: 0.3063 - auc: 0.7466\n",
      "Epoch 17/50\n",
      "5081/5081 [==============================] - 10s 2ms/step - loss: 0.3057 - auc: 0.7465\n",
      "Epoch 18/50\n",
      "5081/5081 [==============================] - 11s 2ms/step - loss: 0.3054 - auc: 0.7481\n",
      "Epoch 19/50\n",
      "5081/5081 [==============================] - 11s 2ms/step - loss: 0.3043 - auc: 0.7508\n",
      "Epoch 20/50\n",
      "5081/5081 [==============================] - 11s 2ms/step - loss: 0.3043 - auc: 0.7509\n",
      "Epoch 21/50\n",
      "5081/5081 [==============================] - 11s 2ms/step - loss: 0.3037 - auc: 0.7523\n",
      "Epoch 22/50\n",
      "5081/5081 [==============================] - 11s 2ms/step - loss: 0.3043 - auc: 0.7505\n",
      "Epoch 23/50\n",
      "5081/5081 [==============================] - 12s 2ms/step - loss: 0.3034 - auc: 0.7531\n",
      "Epoch 24/50\n",
      "5081/5081 [==============================] - 13s 3ms/step - loss: 0.3035 - auc: 0.7537\n",
      "Epoch 25/50\n",
      "5081/5081 [==============================] - 10s 2ms/step - loss: 0.3029 - auc: 0.7558\n",
      "Epoch 26/50\n",
      "5081/5081 [==============================] - 9s 2ms/step - loss: 0.3032 - auc: 0.7534\n",
      "Epoch 27/50\n",
      "5081/5081 [==============================] - 9s 2ms/step - loss: 0.3034 - auc: 0.7539\n",
      "Epoch 28/50\n",
      "5081/5081 [==============================] - 10s 2ms/step - loss: 0.3027 - auc: 0.7551\n",
      "Epoch 29/50\n",
      "5081/5081 [==============================] - 10s 2ms/step - loss: 0.3024 - auc: 0.7564\n",
      "Epoch 30/50\n",
      "5081/5081 [==============================] - 10s 2ms/step - loss: 0.3021 - auc: 0.7568\n",
      "Epoch 31/50\n",
      "5081/5081 [==============================] - 10s 2ms/step - loss: 0.3023 - auc: 0.7564\n",
      "Epoch 32/50\n",
      "5081/5081 [==============================] - 10s 2ms/step - loss: 0.3031 - auc: 0.7547\n",
      "Epoch 33/50\n",
      "5081/5081 [==============================] - 10s 2ms/step - loss: 0.3019 - auc: 0.7568\n",
      "Epoch 34/50\n",
      "5081/5081 [==============================] - 10s 2ms/step - loss: 0.3025 - auc: 0.7558\n",
      "Epoch 35/50\n",
      "5081/5081 [==============================] - 11s 2ms/step - loss: 0.3014 - auc: 0.7594\n",
      "Epoch 36/50\n",
      "5081/5081 [==============================] - 11s 2ms/step - loss: 0.3025 - auc: 0.7564\n",
      "Epoch 37/50\n",
      "5081/5081 [==============================] - 10s 2ms/step - loss: 0.3015 - auc: 0.7587\n",
      "Epoch 38/50\n",
      "5081/5081 [==============================] - 10s 2ms/step - loss: 0.3022 - auc: 0.7590\n",
      "Epoch 39/50\n",
      "5081/5081 [==============================] - 10s 2ms/step - loss: 0.3016 - auc: 0.7601\n",
      "Epoch 40/50\n",
      "5081/5081 [==============================] - 10s 2ms/step - loss: 0.3010 - auc: 0.7596\n",
      "Epoch 41/50\n",
      "5081/5081 [==============================] - 10s 2ms/step - loss: 0.3009 - auc: 0.7604\n",
      "Epoch 42/50\n",
      "5081/5081 [==============================] - 9s 2ms/step - loss: 0.3014 - auc: 0.7589\n",
      "Epoch 43/50\n",
      "5081/5081 [==============================] - 10s 2ms/step - loss: 0.3007 - auc: 0.7611\n",
      "Epoch 44/50\n",
      "5081/5081 [==============================] - 9s 2ms/step - loss: 0.3001 - auc: 0.7621\n",
      "Epoch 45/50\n",
      "5081/5081 [==============================] - 10s 2ms/step - loss: 0.3010 - auc: 0.7603\n",
      "Epoch 46/50\n",
      "5081/5081 [==============================] - 9s 2ms/step - loss: 0.3015 - auc: 0.7597\n",
      "Epoch 47/50\n",
      "5081/5081 [==============================] - 10s 2ms/step - loss: 0.3011 - auc: 0.7597\n",
      "Epoch 48/50\n",
      "5081/5081 [==============================] - 10s 2ms/step - loss: 0.3012 - auc: 0.7598\n",
      "Epoch 49/50\n",
      "5081/5081 [==============================] - 10s 2ms/step - loss: 0.3001 - auc: 0.7620\n",
      "Epoch 50/50\n",
      "5081/5081 [==============================] - 9s 2ms/step - loss: 0.3012 - auc: 0.7598\n"
     ]
    }
   ],
   "source": [
    "m4 = Sequential()\n",
    "m4.add(Dense(128, input_shape=(X_train.shape[1], ), activation='relu'))\n",
    "m4.add(Dropout(0.75))\n",
    "m4.add(Dense(64, activation='relu'))\n",
    "m4.add(Dropout(0.75))\n",
    "m4.add(Dense(32, activation='relu'))\n",
    "m4.add(Dense(1, activation='sigmoid'))\n",
    "m4.compile(loss='binary_crossentropy', optimizer='adam', metrics=['AUC'])\n",
    "history = m4.fit(X_train, y_train, epochs=50, verbose=1)"
   ]
  },
  {
   "cell_type": "code",
   "execution_count": 94,
   "metadata": {},
   "outputs": [
    {
     "name": "stdout",
     "output_type": "stream",
     "text": [
      "1271/1271 [==============================] - 1s 1ms/step\n",
      "accuracy: 0.89\n",
      "auc\t: 0.5\n"
     ]
    }
   ],
   "source": [
    "y_hat_proba4 = m4.predict(X_test)\n",
    "y_hat_class4 = [int(x >= 0.5) for x in y_hat_proba4]\n",
    "print('accuracy:', round(accuracy_score(y_test, y_hat_class4), 2))\n",
    "print('auc\\t:', round(roc_auc_score(y_test, y_hat_class4), 2)) # too small!!\n",
    "results.append({'model': 'm4', 'auc' : round(roc_auc_score(y_test, y_hat_class4), 2)})"
   ]
  },
  {
   "cell_type": "code",
   "execution_count": 147,
   "metadata": {},
   "outputs": [
    {
     "data": {
      "text/plain": [
       "Text(0.5, 1.0, 'Probability')"
      ]
     },
     "execution_count": 147,
     "metadata": {},
     "output_type": "execute_result"
    },
    {
     "data": {
      "image/png": "[encoded data removed]",
      "text/plain": [
       "<Figure size 864x288 with 2 Axes>"
      ]
     },
     "metadata": {
      "needs_background": "light"
     },
     "output_type": "display_data"
    }
   ],
   "source": [
    "fig, axs = plt.subplots(ncols=2, figsize=(12,4))\n",
    "sns.histplot(x=y_hat_class4, ax=axs[0])\n",
    "sns.histplot(x=y_hat_proba4[:, 0], ax=axs[1])\n",
    "fig.suptitle('Churn predicted by Neural network in Keras')\n",
    "axs[0].set_title('Classes')\n",
    "axs[1].set_title('Probability')"
   ]
  },
  {
   "cell_type": "code",
   "execution_count": 34,
   "metadata": {},
   "outputs": [
    {
     "data": {
      "image/png": "[encoded data removed]",
      "text/plain": [
       "<Figure size 432x288 with 1 Axes>"
      ]
     },
     "metadata": {
      "needs_background": "light"
     },
     "output_type": "display_data"
    }
   ],
   "source": [
    "plt.title('Learning history of NN')\n",
    "plt.plot(history.history['loss'], label='loss')\n",
    "plt.plot(history.history['auc'], label='auc')\n",
    "plt.legend()\n",
    "plt.show()"
   ]
  },
  {
   "cell_type": "markdown",
   "metadata": {},
   "source": [
    "### 2.5. TensorFlow"
   ]
  },
  {
   "cell_type": "code",
   "execution_count": 97,
   "metadata": {},
   "outputs": [
    {
     "name": "stdout",
     "output_type": "stream",
     "text": [
      "Epoch 1/10\n",
      "2541/2541 [==============================] - 6s 2ms/step - loss: 0.3411 - auc_2: 0.6170\n",
      "Epoch 2/10\n",
      "2541/2541 [==============================] - 7s 3ms/step - loss: 0.3336 - auc_2: 0.6407\n",
      "Epoch 3/10\n",
      "2541/2541 [==============================] - 8s 3ms/step - loss: 0.3342 - auc_2: 0.6378\n",
      "Epoch 4/10\n",
      "2541/2541 [==============================] - 8s 3ms/step - loss: 0.3315 - auc_2: 0.6497\n",
      "Epoch 5/10\n",
      "2541/2541 [==============================] - 7s 3ms/step - loss: 0.3325 - auc_2: 0.6468\n",
      "Epoch 6/10\n",
      "2541/2541 [==============================] - 7s 3ms/step - loss: 0.3303 - auc_2: 0.6536\n",
      "Epoch 7/10\n",
      "2541/2541 [==============================] - 7s 3ms/step - loss: 0.3301 - auc_2: 0.6538\n",
      "Epoch 8/10\n",
      "2541/2541 [==============================] - 6s 2ms/step - loss: 0.3310 - auc_2: 0.6475\n",
      "Epoch 9/10\n",
      "2541/2541 [==============================] - 5s 2ms/step - loss: 0.3298 - auc_2: 0.6545\n",
      "Epoch 10/10\n",
      "2541/2541 [==============================] - 5s 2ms/step - loss: 0.3297 - auc_2: 0.6556\n"
     ]
    }
   ],
   "source": [
    "m5 = tf.keras.Sequential([\n",
    "    tf.keras.layers.Dense(64, input_shape=(X_train.shape[1], ), activation='relu'),\n",
    "    tf.keras.layers.Dropout(0.75),\n",
    "    tf.keras.layers.Dense(32, activation='relu'),\n",
    "    tf.keras.layers.Dropout(0.75),\n",
    "    tf.keras.layers.Dense(16, activation='relu'),\n",
    "    tf.keras.layers.Dense(1, activation='sigmoid')\n",
    "])\n",
    "m5.compile(loss=tf.keras.losses.BinaryCrossentropy(), \n",
    "            optimizer=tf.keras.optimizers.Adam(learning_rate=0.01), \n",
    "            metrics=tf.keras.metrics.AUC())\n",
    "history = m5.fit(X_train, y_train, batch_size=64, epochs=10, verbose=1)"
   ]
  },
  {
   "cell_type": "code",
   "execution_count": 153,
   "metadata": {},
   "outputs": [
    {
     "name": "stdout",
     "output_type": "stream",
     "text": [
      "1271/1271 [==============================] - 2s 2ms/step\n",
      "accuracy: 0.89\n",
      "auc\t: 0.5\n"
     ]
    }
   ],
   "source": [
    "y_hat_proba5 = m5.predict(X_test)\n",
    "y_hat_class5 = [int(x >= 0.5) for x in y_hat_proba5]\n",
    "print('accuracy:', round(accuracy_score(y_test, y_hat_class5), 2))\n",
    "print('auc\\t:', round(roc_auc_score(y_test, y_hat_class5), 2)) # too small!!\n",
    "results.append({'model': 'm5', 'auc' : round(roc_auc_score(y_test, y_hat_class5), 2)})"
   ]
  },
  {
   "cell_type": "code",
   "execution_count": 104,
   "metadata": {},
   "outputs": [
    {
     "data": {
      "image/png": "[encoded data removed]",
      "text/plain": [
       "<Figure size 432x288 with 1 Axes>"
      ]
     },
     "metadata": {
      "needs_background": "light"
     },
     "output_type": "display_data"
    }
   ],
   "source": [
    "plt.title('Learning history of NN')\n",
    "plt.plot(history.history['loss'], label='loss')\n",
    "plt.plot(history.history['auc_2'], label='auc')\n",
    "plt.legend()\n",
    "plt.show()"
   ]
  },
  {
   "cell_type": "code",
   "execution_count": 148,
   "metadata": {},
   "outputs": [
    {
     "data": {
      "text/plain": [
       "Text(0.5, 1.0, 'Probability')"
      ]
     },
     "execution_count": 148,
     "metadata": {},
     "output_type": "execute_result"
    },
    {
     "data": {
      "image/png": "[encoded data removed]",
      "text/plain": [
       "<Figure size 864x288 with 2 Axes>"
      ]
     },
     "metadata": {
      "needs_background": "light"
     },
     "output_type": "display_data"
    }
   ],
   "source": [
    "fig, axs = plt.subplots(ncols=2, figsize=(12,4))\n",
    "sns.histplot(x=y_hat_class5, ax=axs[0])\n",
    "sns.histplot(x=y_hat_proba5[:, 0], ax=axs[1])\n",
    "fig.suptitle('Churn predicted by Neural Network in Tensorflow')\n",
    "axs[0].set_title('Classes')\n",
    "axs[1].set_title('Probability')"
   ]
  },
  {
   "cell_type": "markdown",
   "metadata": {},
   "source": [
    "### 2.6. NumPy"
   ]
  },
  {
   "cell_type": "code",
   "execution_count": null,
   "metadata": {},
   "outputs": [],
   "source": [
    "class DNN():\n",
    "    def __init__(self, input_size, output_size, hidden_dims, initializer='random', activation = 'relu'):\n",
    "        \n",
    "        self.layer_dims=[input_size] + hidden_dims + [output_size]\n",
    "        self.w = {}\n",
    "        self.b = {}\n",
    "        self.activation = activation\n",
    "        self.initializer = initializer\n",
    "        self.L = len(self.layer_dims)-1\n",
    "\n",
    "        for i in range(self.L):\n",
    "            self.w[i+1]=np.random.randn(self.layer_dims[i+1], self.layer_dims[i])\n",
    "            self.b[i+1]=np.zeroes((self.layer_dims[i+1], 1))\n",
    "\n",
    "        def linear(self, X):\n",
    "            return X\n",
    "\n",
    "        def linear_grad(self, X):\n",
    "            return np.ones(shape=X.shape)\n",
    "        \n",
    "        def sigmoid(self, X):\n",
    "            return 1/(1+np.exp(-X))\n",
    "\n",
    "        def sigmoid_grad(self, X):\n",
    "            return self.sigmoid(X)*(1-self.sigmoid(X))\n",
    "        \n",
    "        def relu(self, X):\n",
    "            return np.maximum(0, X)\n",
    "        def relu_grad(self, X):\n",
    "            return 1.0*(X > 0)\n",
    "\n",
    "        def accuracy(self, y_pred, y_true):\n",
    "            a = np.argmax(y_pred, axis=0)\n",
    "            b = np.argmax(y_true, axis=0)\n",
    "            correct = np.sum((a==b)*1)\n",
    "            total = a.size\n",
    "            return correct/total\n",
    "\n",
    "        def forward_propagation(self, X):\n",
    "            self.z = {}\n",
    "            self.a = {}\n",
    "            self.a[0] = X\n",
    "            ll = len(self.layer_dims)-2\n",
    "            for i in range(ll):\n",
    "                self.z[i+1] = np.matmul(self.w[i+1], self.a[i]) + self.b[i+1]\n",
    "            self.z[self.L] = np.matmul(self.w[self.l], self.a[ll]) + self.b[self.l]\n",
    "            self.a[self.L] = self.sigmoid(self.z[self.l])\n",
    "            return self.a\n",
    "        \n",
    "        def backpropagation(self, Y):\n",
    "            self.dz = {}\n",
    "            self.da = {}\n",
    "            self.dw = {}\n",
    "            self.db = {}\n",
    "            self.dz[self.L] = self.a[self.L] - Y\n",
    "            for i in range(self.L, 0, -1):\n",
    "                self.dw[i] = (1/self.dz[i].shape[1]) * np.matmul(self.dz[i], self.a[i-1].T)\n",
    "                self.db[i] = (1/self.dz[i].shape[1]) * np.sum(self.dz[i], axis=1, keepdims=True)\n",
    "        return (self.dw, self.db)\n",
    "\n",
    "        def train(self, X_train, y_train, X_test, y_test, epochs=100, lr = 0.001):\n",
    "            self.mw = {}\n",
    "            self.mb = {}\n",
    "            self.vw = {}\n",
    "            self.vb = {}\n",
    "            for i in range(self.L):\n",
    "                self.mw[i+1] = np.zeros(shape=self.w[i+1].shape)\n",
    "                self.mb[i+1] = np.zeros(shape=self.b[i+1].shape)\n",
    "                self.vw[i+1] = np.zeros(shape=self.w[i+1].shape)\n",
    "                self.vb[i+1] = np.zeros(shape=self.b[i+1].shape)\n",
    "\n",
    "            train_cost = []\n",
    "            test_cose = []\n",
    "            train_cost = []\n",
    "            test_acc = []\n",
    "\n",
    "            for epoch in range(epochs):\n",
    "                meth = np.random.permutation(X.train.shape[1])\n",
    "                X_train = X_train[:, meth]\n",
    "\n",
    "        \n",
    "        def predict(self, X):\n",
    "            a = self.forward_propagation(X)\n",
    "            return a[self.L]\n",
    "    \n",
    "\n"
   ]
  },
  {
   "cell_type": "markdown",
   "metadata": {},
   "source": [
    "## 3. Results"
   ]
  },
  {
   "cell_type": "code",
   "execution_count": 155,
   "metadata": {},
   "outputs": [
    {
     "data": {
      "text/html": [
       "<div>\n",
       "<style scoped>\n",
       "    .dataframe tbody tr th:only-of-type {\n",
       "        vertical-align: middle;\n",
       "    }\n",
       "\n",
       "    .dataframe tbody tr th {\n",
       "        vertical-align: top;\n",
       "    }\n",
       "\n",
       "    .dataframe thead th {\n",
       "        text-align: right;\n",
       "    }\n",
       "</style>\n",
       "<table border=\"1\" class=\"dataframe\">\n",
       "  <thead>\n",
       "    <tr style=\"text-align: right;\">\n",
       "      <th></th>\n",
       "      <th>model</th>\n",
       "      <th>auc</th>\n",
       "    </tr>\n",
       "  </thead>\n",
       "  <tbody>\n",
       "    <tr>\n",
       "      <th>0</th>\n",
       "      <td>m1</td>\n",
       "      <td>0.51</td>\n",
       "    </tr>\n",
       "    <tr>\n",
       "      <th>1</th>\n",
       "      <td>m2</td>\n",
       "      <td>0.67</td>\n",
       "    </tr>\n",
       "    <tr>\n",
       "      <th>2</th>\n",
       "      <td>m3</td>\n",
       "      <td>0.54</td>\n",
       "    </tr>\n",
       "    <tr>\n",
       "      <th>3</th>\n",
       "      <td>m4</td>\n",
       "      <td>0.50</td>\n",
       "    </tr>\n",
       "    <tr>\n",
       "      <th>4</th>\n",
       "      <td>m5</td>\n",
       "      <td>0.50</td>\n",
       "    </tr>\n",
       "  </tbody>\n",
       "</table>\n",
       "</div>"
      ],
      "text/plain": [
       "  model   auc\n",
       "0    m1  0.51\n",
       "1    m2  0.67\n",
       "2    m3  0.54\n",
       "3    m4  0.50\n",
       "4    m5  0.50"
      ]
     },
     "execution_count": 155,
     "metadata": {},
     "output_type": "execute_result"
    }
   ],
   "source": [
    "pd.DataFrame(results)"
   ]
  }
 ],
 "metadata": {
  "kernelspec": {
   "display_name": "Python 3.8.8 ('base')",
   "language": "python",
   "name": "python3"
  },
  "language_info": {
   "codemirror_mode": {
    "name": "ipython",
    "version": 3
   },
   "file_extension": ".py",
   "mimetype": "text/x-python",
   "name": "python",
   "nbconvert_exporter": "python",
   "pygments_lexer": "ipython3",
   "version": "3.8.8"
  },
  "orig_nbformat": 4,
  "vscode": {
   "interpreter": {
    "hash": "33bbefd7968a1a2a40babc1846ba16307cf59d2e9a0bfd675347d86b22b586cd"
   }
  }
 },
 "nbformat": 4,
 "nbformat_minor": 2
}
